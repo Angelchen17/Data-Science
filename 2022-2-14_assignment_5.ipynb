{
 "cells": [
  {
   "cell_type": "markdown",
   "metadata": {
    "id": "zsJM27mMVBgZ"
   },
   "source": [
    "# Grade: /100 pts\n",
    "\n",
    "# Assignment 05: Model Selection & Cross Validation\n",
    "\n",
    "### Dear Applicant...You've Been Invited To  Interview To Be A Data Scientist!\n",
    "\n",
    "You've been invited to interview for a Junior Data Scientist job for a consulting firm. This company works with a variety of machine learning applications from banking to sports!.\n",
    "\n",
    "You will face one important task: *Advice a bank. Constructing a model for predicting the probability of retail products default.*\n",
    "\n",
    "The bank has provided you with data for 1000 loans.  Your job: build a model or models, perform model selection using cross validation techniques, and evaluate your final selected model.\n",
    "\n",
    "### The Dataset\n",
    "\n",
    "The data is stored in a csv file called `loan_Data.csv`.  The data includes some information about the payment behavior and customer characteristics such  as job and purpose acquiring the current loan. You could view the dictionary of the variables given in the file `loan_param.xlsx)`.\n",
    "\n",
    "The target variable is `loanDefault`, which takes the categories Fully Paid or Charged Off.\n",
    "\n",
    "\n",
    "### Follow These Steps before submitting\n",
    "Once you are finished, ensure to complete the following steps.\n",
    "\n",
    "1.  Restart your kernel by clicking 'Kernel' > 'Restart & Run All'.\n",
    "\n",
    "2.  Fix any errors which result from this.\n",
    "\n",
    "3.  Repeat steps 1. and 2. until your notebook runs without errors.\n",
    "\n",
    "4.  Submit your completed notebook to OWL by the deadline. \n",
    "\n",
    "5.  Your submission document should be saved in the form: `LastName_FirstName_Assignment5.ipynb`\n",
    "\n",
    "---"
   ]
  },
  {
   "cell_type": "code",
   "execution_count": 543,
   "metadata": {
    "execution": {
     "iopub.execute_input": "2022-02-10T20:58:59.068553Z",
     "iopub.status.busy": "2022-02-10T20:58:59.067531Z",
     "iopub.status.idle": "2022-02-10T20:59:00.668175Z",
     "shell.execute_reply": "2022-02-10T20:59:00.667085Z",
     "shell.execute_reply.started": "2022-02-10T20:58:59.068499Z"
    },
    "id": "qyn1a-ZqVBgf"
   },
   "outputs": [],
   "source": [
    "import pandas as pd\n",
    "import numpy as np\n",
    "import matplotlib.pyplot as plt\n",
    "import seaborn as sns\n",
    "from sklearn.model_selection import train_test_split,StratifiedKFold,cross_val_score\n",
    "from sklearn.linear_model import LogisticRegression, LinearRegression\n",
    "from sklearn.pipeline import Pipeline\n",
    "from sklearn.preprocessing import StandardScaler, PolynomialFeatures\n",
    "from sklearn.metrics import make_scorer, mean_squared_error,roc_curve, auc, roc_auc_score\n",
    "from sklearn.base import BaseEstimator, TransformerMixin\n",
    "\n",
    "pd.set_option('display.max_columns', 500)\n",
    "\n",
    "%matplotlib inline\n",
    "\n",
    "%matplotlib inline\n",
    "plt.style.use('ggplot')\n"
   ]
  },
  {
   "cell_type": "markdown",
   "metadata": {
    "id": "5vhmu5x5VBgj"
   },
   "source": [
    "_____"
   ]
  },
  {
   "cell_type": "markdown",
   "metadata": {
    "id": "GSB_avXLVBgk"
   },
   "source": [
    "### Question 1: /10pts\n",
    "\n",
    "As the initial step, the hiring manager asks you to load the data `loan_Data.csv` and identify the last 5 rows of the data (observe that the rows have been shuffled).\n",
    "Since you are going to create a predictive model for the default probability the hiring manager is expecting you to change the values of the column `loanDefault` to 1 if the loan is `Charged Off` and 0 if it is `Fully Paid`. "
   ]
  },
  {
   "cell_type": "code",
   "execution_count": 544,
   "metadata": {
    "execution": {
     "iopub.execute_input": "2022-02-10T20:59:00.670171Z",
     "iopub.status.busy": "2022-02-10T20:59:00.669885Z",
     "iopub.status.idle": "2022-02-10T20:59:00.736923Z",
     "shell.execute_reply": "2022-02-10T20:59:00.735843Z",
     "shell.execute_reply.started": "2022-02-10T20:59:00.670138Z"
    },
    "id": "rlGmp5PWVBgm"
   },
   "outputs": [
    {
     "data": {
      "text/html": [
       "<div>\n",
       "<style scoped>\n",
       "    .dataframe tbody tr th:only-of-type {\n",
       "        vertical-align: middle;\n",
       "    }\n",
       "\n",
       "    .dataframe tbody tr th {\n",
       "        vertical-align: top;\n",
       "    }\n",
       "\n",
       "    .dataframe thead th {\n",
       "        text-align: right;\n",
       "    }\n",
       "</style>\n",
       "<table border=\"1\" class=\"dataframe\">\n",
       "  <thead>\n",
       "    <tr style=\"text-align: right;\">\n",
       "      <th></th>\n",
       "      <th>loanAmnt</th>\n",
       "      <th>annualInc</th>\n",
       "      <th>application_type</th>\n",
       "      <th>int_rate</th>\n",
       "      <th>revol_bal</th>\n",
       "      <th>revol_util</th>\n",
       "      <th>dti</th>\n",
       "      <th>emp_length</th>\n",
       "      <th>grade</th>\n",
       "      <th>homeOwnership</th>\n",
       "      <th>installment</th>\n",
       "      <th>job</th>\n",
       "      <th>loanDefault</th>\n",
       "      <th>mortAcc</th>\n",
       "      <th>pub_rec_bankruptcies</th>\n",
       "      <th>purpose</th>\n",
       "      <th>term</th>\n",
       "      <th>Year</th>\n",
       "    </tr>\n",
       "  </thead>\n",
       "  <tbody>\n",
       "    <tr>\n",
       "      <th>835</th>\n",
       "      <td>25000.0</td>\n",
       "      <td>112000.0</td>\n",
       "      <td>INDIVIDUAL</td>\n",
       "      <td>11.99</td>\n",
       "      <td>42261.0</td>\n",
       "      <td>70.7</td>\n",
       "      <td>11.14</td>\n",
       "      <td>10</td>\n",
       "      <td>B</td>\n",
       "      <td>MORTGAGE</td>\n",
       "      <td>830.24</td>\n",
       "      <td>VP dealer relations</td>\n",
       "      <td>Fully Paid</td>\n",
       "      <td>10</td>\n",
       "      <td>0</td>\n",
       "      <td>debt_consolidation</td>\n",
       "      <td>36</td>\n",
       "      <td>2015</td>\n",
       "    </tr>\n",
       "    <tr>\n",
       "      <th>192</th>\n",
       "      <td>30000.0</td>\n",
       "      <td>101000.0</td>\n",
       "      <td>INDIVIDUAL</td>\n",
       "      <td>19.52</td>\n",
       "      <td>16300.0</td>\n",
       "      <td>48.7</td>\n",
       "      <td>19.88</td>\n",
       "      <td>7</td>\n",
       "      <td>E</td>\n",
       "      <td>MORTGAGE</td>\n",
       "      <td>786.83</td>\n",
       "      <td>cbp officer</td>\n",
       "      <td>Fully Paid</td>\n",
       "      <td>13</td>\n",
       "      <td>0</td>\n",
       "      <td>debt_consolidation</td>\n",
       "      <td>60</td>\n",
       "      <td>2015</td>\n",
       "    </tr>\n",
       "    <tr>\n",
       "      <th>629</th>\n",
       "      <td>17000.0</td>\n",
       "      <td>73000.0</td>\n",
       "      <td>INDIVIDUAL</td>\n",
       "      <td>13.11</td>\n",
       "      <td>27909.0</td>\n",
       "      <td>66.3</td>\n",
       "      <td>29.00</td>\n",
       "      <td>2</td>\n",
       "      <td>B</td>\n",
       "      <td>RENT</td>\n",
       "      <td>573.70</td>\n",
       "      <td>HCA</td>\n",
       "      <td>Fully Paid</td>\n",
       "      <td>14</td>\n",
       "      <td>0</td>\n",
       "      <td>debt_consolidation</td>\n",
       "      <td>36</td>\n",
       "      <td>2013</td>\n",
       "    </tr>\n",
       "    <tr>\n",
       "      <th>559</th>\n",
       "      <td>15600.0</td>\n",
       "      <td>67500.0</td>\n",
       "      <td>INDIVIDUAL</td>\n",
       "      <td>7.39</td>\n",
       "      <td>16146.0</td>\n",
       "      <td>43.9</td>\n",
       "      <td>14.29</td>\n",
       "      <td>4</td>\n",
       "      <td>A</td>\n",
       "      <td>RENT</td>\n",
       "      <td>484.47</td>\n",
       "      <td>Senior associatw</td>\n",
       "      <td>Fully Paid</td>\n",
       "      <td>15</td>\n",
       "      <td>0</td>\n",
       "      <td>debt_consolidation</td>\n",
       "      <td>36</td>\n",
       "      <td>2016</td>\n",
       "    </tr>\n",
       "    <tr>\n",
       "      <th>684</th>\n",
       "      <td>10000.0</td>\n",
       "      <td>70000.0</td>\n",
       "      <td>INDIVIDUAL</td>\n",
       "      <td>22.15</td>\n",
       "      <td>6475.0</td>\n",
       "      <td>75.3</td>\n",
       "      <td>12.62</td>\n",
       "      <td>2</td>\n",
       "      <td>E</td>\n",
       "      <td>RENT</td>\n",
       "      <td>382.69</td>\n",
       "      <td>Account Managet</td>\n",
       "      <td>Charged Off</td>\n",
       "      <td>7</td>\n",
       "      <td>0</td>\n",
       "      <td>moving</td>\n",
       "      <td>36</td>\n",
       "      <td>2014</td>\n",
       "    </tr>\n",
       "  </tbody>\n",
       "</table>\n",
       "</div>"
      ],
      "text/plain": [
       "     loanAmnt  annualInc application_type  int_rate  revol_bal  revol_util  \\\n",
       "835   25000.0   112000.0       INDIVIDUAL     11.99    42261.0        70.7   \n",
       "192   30000.0   101000.0       INDIVIDUAL     19.52    16300.0        48.7   \n",
       "629   17000.0    73000.0       INDIVIDUAL     13.11    27909.0        66.3   \n",
       "559   15600.0    67500.0       INDIVIDUAL      7.39    16146.0        43.9   \n",
       "684   10000.0    70000.0       INDIVIDUAL     22.15     6475.0        75.3   \n",
       "\n",
       "       dti  emp_length grade homeOwnership  installment                  job  \\\n",
       "835  11.14          10     B      MORTGAGE       830.24  VP dealer relations   \n",
       "192  19.88           7     E      MORTGAGE       786.83          cbp officer   \n",
       "629  29.00           2     B          RENT       573.70                  HCA   \n",
       "559  14.29           4     A          RENT       484.47     Senior associatw   \n",
       "684  12.62           2     E          RENT       382.69      Account Managet   \n",
       "\n",
       "     loanDefault  mortAcc  pub_rec_bankruptcies             purpose  term  \\\n",
       "835   Fully Paid       10                     0  debt_consolidation    36   \n",
       "192   Fully Paid       13                     0  debt_consolidation    60   \n",
       "629   Fully Paid       14                     0  debt_consolidation    36   \n",
       "559   Fully Paid       15                     0  debt_consolidation    36   \n",
       "684  Charged Off        7                     0              moving    36   \n",
       "\n",
       "     Year  \n",
       "835  2015  \n",
       "192  2015  \n",
       "629  2013  \n",
       "559  2016  \n",
       "684  2014  "
      ]
     },
     "execution_count": 544,
     "metadata": {},
     "output_type": "execute_result"
    }
   ],
   "source": [
    "# Upload the data\n",
    "Data1 = pd.read_csv('loan_Data.csv',sep=';')\n",
    "\n",
    "# Shuffle the rows\n",
    "Data1 = Data1.sample(frac=1, random_state=0)\n",
    "\n",
    "# Print the last 5 rows\n",
    "Data1.tail()\n",
    "\n",
    "#2 pts"
   ]
  },
  {
   "cell_type": "code",
   "execution_count": 545,
   "metadata": {
    "execution": {
     "iopub.execute_input": "2022-02-10T20:59:00.739249Z",
     "iopub.status.busy": "2022-02-10T20:59:00.738563Z",
     "iopub.status.idle": "2022-02-10T20:59:00.751307Z",
     "shell.execute_reply": "2022-02-10T20:59:00.750125Z",
     "shell.execute_reply.started": "2022-02-10T20:59:00.739183Z"
    },
    "id": "1VGBX5XJVBgn"
   },
   "outputs": [],
   "source": [
    "# Change loanDefault variable as binary\n",
    "Data1['loanDefault'] = Data1['loanDefault'].replace(['Fully Paid','Charged Off'],[0,1])\n",
    "\n",
    "# 2 pts"
   ]
  },
  {
   "cell_type": "code",
   "execution_count": 546,
   "metadata": {
    "execution": {
     "iopub.execute_input": "2022-02-10T20:59:00.754861Z",
     "iopub.status.busy": "2022-02-10T20:59:00.754361Z",
     "iopub.status.idle": "2022-02-10T20:59:00.785414Z",
     "shell.execute_reply": "2022-02-10T20:59:00.784635Z",
     "shell.execute_reply.started": "2022-02-10T20:59:00.754716Z"
    },
    "id": "-kjM1JOvVBgp"
   },
   "outputs": [
    {
     "name": "stdout",
     "output_type": "stream",
     "text": [
      "<class 'pandas.core.frame.DataFrame'>\n",
      "Int64Index: 1000 entries, 993 to 684\n",
      "Data columns (total 18 columns):\n",
      " #   Column                Non-Null Count  Dtype  \n",
      "---  ------                --------------  -----  \n",
      " 0   loanAmnt              1000 non-null   float64\n",
      " 1   annualInc             1000 non-null   float64\n",
      " 2   application_type      1000 non-null   object \n",
      " 3   int_rate              1000 non-null   float64\n",
      " 4   revol_bal             1000 non-null   float64\n",
      " 5   revol_util            1000 non-null   float64\n",
      " 6   dti                   1000 non-null   float64\n",
      " 7   emp_length            1000 non-null   int64  \n",
      " 8   grade                 1000 non-null   object \n",
      " 9   homeOwnership         1000 non-null   object \n",
      " 10  installment           1000 non-null   float64\n",
      " 11  job                   1000 non-null   object \n",
      " 12  loanDefault           1000 non-null   int64  \n",
      " 13  mortAcc               1000 non-null   int64  \n",
      " 14  pub_rec_bankruptcies  1000 non-null   int64  \n",
      " 15  purpose               1000 non-null   object \n",
      " 16  term                  1000 non-null   int64  \n",
      " 17  Year                  1000 non-null   int64  \n",
      "dtypes: float64(7), int64(6), object(5)\n",
      "memory usage: 148.4+ KB\n"
     ]
    }
   ],
   "source": [
    "# Print the dimension of Data1\n",
    "Data1.info()\n",
    "# 1pt"
   ]
  },
  {
   "cell_type": "markdown",
   "metadata": {
    "id": "iCj9inZTVBgq"
   },
   "source": [
    "How many observations and columns does this data set have?"
   ]
  },
  {
   "cell_type": "markdown",
   "metadata": {
    "id": "gRsgLcxZVBgr"
   },
   "source": [
    "**ANSWER HERE:**[1pt] \\\n",
    "This data set has 1000 observations and 18 columns in total. "
   ]
  },
  {
   "cell_type": "markdown",
   "metadata": {
    "id": "TMM9sMKUVBgr"
   },
   "source": [
    "Finally create a barchart with the the number of loans in default and non-default."
   ]
  },
  {
   "cell_type": "code",
   "execution_count": 547,
   "metadata": {
    "execution": {
     "iopub.execute_input": "2022-02-10T20:59:00.787097Z",
     "iopub.status.busy": "2022-02-10T20:59:00.786806Z",
     "iopub.status.idle": "2022-02-10T20:59:01.140786Z",
     "shell.execute_reply": "2022-02-10T20:59:01.139757Z",
     "shell.execute_reply.started": "2022-02-10T20:59:00.787064Z"
    },
    "id": "CMC3SldgVBgu"
   },
   "outputs": [
    {
     "data": {
      "image/png": "[encoded data removed]",
      "text/plain": [
       "<Figure size 432x288 with 1 Axes>"
      ]
     },
     "metadata": {},
     "output_type": "display_data"
    }
   ],
   "source": [
    "# Code to construct the bartchart \n",
    "ax = Data1.loanDefault.plot.hist(title='number of loans in default and non-default')\n",
    "plt.xlabel(' non-default:0  default:1')\n",
    "plt.ylabel('number of customers')\n",
    "plt.xticks((0,1))\n",
    "plt.xlim([0,1])\n",
    "plt.show()\n",
    "\n",
    "# 1pt"
   ]
  },
  {
   "cell_type": "code",
   "execution_count": 548,
   "metadata": {
    "execution": {
     "iopub.execute_input": "2022-02-10T20:59:01.142680Z",
     "iopub.status.busy": "2022-02-10T20:59:01.142335Z",
     "iopub.status.idle": "2022-02-10T20:59:01.151368Z",
     "shell.execute_reply": "2022-02-10T20:59:01.150273Z",
     "shell.execute_reply.started": "2022-02-10T20:59:01.142632Z"
    },
    "id": "aH8N2KvfVBgw"
   },
   "outputs": [
    {
     "name": "stdout",
     "output_type": "stream",
     "text": [
      "0.179\n"
     ]
    }
   ],
   "source": [
    "# Calculate the percentage of defaulters\n",
    "dfters = Data1.loanDefault[Data1.loanDefault==1].count()\n",
    "nondfters = Data1.loanDefault[Data1.loanDefault==0].count()\n",
    "percentage = dfters/(dfters+nondfters)\n",
    "print(percentage)\n",
    "# 1pt"
   ]
  },
  {
   "cell_type": "markdown",
   "metadata": {
    "id": "shJKYRSDVBgy"
   },
   "source": [
    "What is the percentage of defaulters in the data set?"
   ]
  },
  {
   "cell_type": "markdown",
   "metadata": {
    "id": "aV8n1aH3VBgy"
   },
   "source": [
    "**ANSWER HERE**[1pt] \\\n",
    "The percentage of defaulter in the data set is 17.9%."
   ]
  },
  {
   "cell_type": "markdown",
   "metadata": {
    "id": "FhYrSIQXVBgy"
   },
   "source": [
    "_____________"
   ]
  },
  {
   "cell_type": "markdown",
   "metadata": {
    "id": "XXAIxGdGVBgz"
   },
   "source": [
    "### Question 2: /10pts\n",
    "\n",
    "The hiring manager is surprised about the proportion of defaulters at the bank. You are asked to determine, using exploratory analysis, if the distribution of income is different between applicants who defaulted and applicants who did not default on their loans."
   ]
  },
  {
   "cell_type": "markdown",
   "metadata": {
    "id": "welvuvYFVBg0"
   },
   "source": [
    "#### 1 First, construct the histogram of the annual income for all the customers (Do not forget the labels in the axes)"
   ]
  },
  {
   "cell_type": "code",
   "execution_count": 549,
   "metadata": {
    "execution": {
     "iopub.execute_input": "2022-02-10T20:59:01.153528Z",
     "iopub.status.busy": "2022-02-10T20:59:01.153185Z",
     "iopub.status.idle": "2022-02-10T20:59:01.415739Z",
     "shell.execute_reply": "2022-02-10T20:59:01.414566Z",
     "shell.execute_reply.started": "2022-02-10T20:59:01.153479Z"
    },
    "id": "JR86qp1ZVBg0"
   },
   "outputs": [
    {
     "data": {
      "image/png": "[encoded data removed]",
      "text/plain": [
       "<Figure size 432x288 with 1 Axes>"
      ]
     },
     "metadata": {},
     "output_type": "display_data"
    }
   ],
   "source": [
    "#Code to construct the histogram\n",
    "Data1.annualInc.groupby(Data1['loanDefault']).plot.hist(bins=50, title='number of customers with annual income in groups' )\n",
    "plt.xlabel(' annual income')\n",
    "plt.ylabel('number of customers')\n",
    "plt.xlim([min(Data1.annualInc),max(Data1.annualInc)])\n",
    "plt.legend(['non-default','default'])\n",
    "plt.show()\n",
    "# 1pt"
   ]
  },
  {
   "cell_type": "markdown",
   "metadata": {
    "id": "P__VWjDAVBg1"
   },
   "source": [
    "What do you notice about the distribution of the annual income variable?"
   ]
  },
  {
   "cell_type": "markdown",
   "metadata": {
    "id": "q-q3kYidVBg1"
   },
   "source": [
    "**ANSWER HERE**[1pt] \\\n",
    "The most annaul income is under 100,000 and there are almost 700 customers are in this range. There is very less data in the high income range. The data are gathered in the 0-100000 range."
   ]
  },
  {
   "cell_type": "markdown",
   "metadata": {
    "id": "M0VPZUNyVBg1"
   },
   "source": [
    "#### 2. You notice the characteristics of the annual income distribution. You remember from your DS 3000's assignment 5 that using a logarithmic transform is a good idea in those cases. Apply a logarithmic transform to the data and plot the new histogram. What do you observe?  Are there differences in the annual income between applicants who defaulted and applicants who did not default in their loans? \n"
   ]
  },
  {
   "cell_type": "code",
   "execution_count": 550,
   "metadata": {
    "execution": {
     "iopub.execute_input": "2022-02-10T20:59:01.417824Z",
     "iopub.status.busy": "2022-02-10T20:59:01.417444Z",
     "iopub.status.idle": "2022-02-10T20:59:01.707122Z",
     "shell.execute_reply": "2022-02-10T20:59:01.706059Z",
     "shell.execute_reply.started": "2022-02-10T20:59:01.417774Z"
    },
    "id": "sDgGvg4fVBg2"
   },
   "outputs": [
    {
     "data": {
      "image/png": "[encoded data removed]",
      "text/plain": [
       "<Figure size 432x288 with 1 Axes>"
      ]
     },
     "metadata": {},
     "output_type": "display_data"
    }
   ],
   "source": [
    "#Code to construct the histogram\n",
    "Data1['Log_annualInc'] = np.log(Data1['annualInc'])\n",
    "Data1.Log_annualInc.groupby(Data1['loanDefault']).plot.hist(bins=50, title='number of customers with log annual income in groups')\n",
    "plt.xlabel('Log of annual income')\n",
    "plt.ylabel('number of customers')\n",
    "plt.xlim([min(Data1.Log_annualInc),max(Data1.Log_annualInc)])\n",
    "plt.legend(['non-default','default'])\n",
    "plt.show()\n",
    "\n",
    "# 6pts"
   ]
  },
  {
   "cell_type": "markdown",
   "metadata": {
    "id": "SZ4pe7fUVBg3"
   },
   "source": [
    "**ANSWER HERE**[2pts]  \\\n",
    "The data becomes more normal as they spread out from the center. There is not a lot difference in distibution of the annual income between applicants with defaulted and non-defaulted loans. Both type of the applicants have same spread out in annual income according to the histogram.\n"
   ]
  },
  {
   "cell_type": "markdown",
   "metadata": {
    "id": "cHmb55I2VBg3"
   },
   "source": [
    "___________"
   ]
  },
  {
   "cell_type": "markdown",
   "metadata": {
    "id": "wrK1ceUIVBg4"
   },
   "source": [
    "### Question 3: /10\n",
    "\n",
    "The manager told you that the bank has a baseline model for predicting the default probability that consists of a standard logistic regression model with only one feature as the predictor."
   ]
  },
  {
   "cell_type": "markdown",
   "metadata": {
    "id": "LwhIISoSVBg4"
   },
   "source": [
    "You are told the predictor variable is the ratio between the yearly payment owed by the borrower and the annual income. You define this new variable as **ratio_inst_inc** column in your data set."
   ]
  },
  {
   "cell_type": "code",
   "execution_count": 551,
   "metadata": {
    "execution": {
     "iopub.execute_input": "2022-02-10T20:59:01.709247Z",
     "iopub.status.busy": "2022-02-10T20:59:01.708805Z",
     "iopub.status.idle": "2022-02-10T20:59:01.716866Z",
     "shell.execute_reply": "2022-02-10T20:59:01.715905Z",
     "shell.execute_reply.started": "2022-02-10T20:59:01.709197Z"
    },
    "id": "uhcTqZt3VBg4"
   },
   "outputs": [],
   "source": [
    "# Create the new variable ratio_inst_inc, remember the variable installment is given as a monthly payment\n",
    "Data1.insert(18,column='ratio_inst_inc', value=Data1['installment']*12/Data1['annualInc'])\n",
    "\n",
    "# 1 pts"
   ]
  },
  {
   "cell_type": "markdown",
   "metadata": {
    "id": "FGomBfadVBg5"
   },
   "source": [
    "Create a basic logistic regression model (with default penalization) named `model_single`. The manager wants you to create a model pipeline to be fit later. (Use `solver='lbfgs'`, `max_iter=10000` and `random_state=0`)"
   ]
  },
  {
   "cell_type": "code",
   "execution_count": 552,
   "metadata": {
    "execution": {
     "iopub.execute_input": "2022-02-10T21:26:38.187828Z",
     "iopub.status.busy": "2022-02-10T21:26:38.187333Z",
     "iopub.status.idle": "2022-02-10T21:26:38.193214Z",
     "shell.execute_reply": "2022-02-10T21:26:38.192348Z",
     "shell.execute_reply.started": "2022-02-10T21:26:38.187789Z"
    },
    "id": "eDPnCqRMVBg5"
   },
   "outputs": [],
   "source": [
    "model1 = Pipeline([\n",
    "    ('model_single',LogisticRegression(solver='lbfgs',max_iter=10000, random_state=0))\n",
    "])\n",
    "#1 pt"
   ]
  },
  {
   "cell_type": "markdown",
   "metadata": {
    "id": "9M0KZ_sHVBg6"
   },
   "source": [
    "Now that you have created the pipeline, fit `model1` for predicting the loan default with only one feature: `ratio_inst_inc`. Use a 70/30 train-test split of the data, remember to set `random_state=0` in the function `train_test_split`. After that, evaluate this model plotting the ROC curve and report the AUC value. "
   ]
  },
  {
   "cell_type": "code",
   "execution_count": 553,
   "metadata": {
    "execution": {
     "iopub.execute_input": "2022-02-10T21:26:42.627903Z",
     "iopub.status.busy": "2022-02-10T21:26:42.627458Z",
     "iopub.status.idle": "2022-02-10T21:26:42.640365Z",
     "shell.execute_reply": "2022-02-10T21:26:42.639520Z",
     "shell.execute_reply.started": "2022-02-10T21:26:42.627858Z"
    },
    "id": "wTaPSJkNVBg6"
   },
   "outputs": [],
   "source": [
    "# Create the training and test data\n",
    "X = Data1['ratio_inst_inc'].values.reshape(-1, 1)\n",
    "y = Data1['loanDefault'].values\n",
    "Xtrain, Xtest, ytrain, ytest = train_test_split(X,y, test_size=0.3, random_state=0)\n",
    "\n",
    "#Fit the model\n",
    "fm1 = model1.fit(Xtrain,ytrain)\n",
    "\n",
    "# 3pts"
   ]
  },
  {
   "cell_type": "code",
   "execution_count": 554,
   "metadata": {
    "execution": {
     "iopub.execute_input": "2022-02-10T21:29:27.340916Z",
     "iopub.status.busy": "2022-02-10T21:29:27.340633Z",
     "iopub.status.idle": "2022-02-10T21:29:27.578013Z",
     "shell.execute_reply": "2022-02-10T21:29:27.577211Z",
     "shell.execute_reply.started": "2022-02-10T21:29:27.340887Z"
    },
    "id": "yRkEdpv5VBg7"
   },
   "outputs": [
    {
     "name": "stderr",
     "output_type": "stream",
     "text": [
      "C:\\Users\\angel\\anaconda3\\envs\\ds3000\\lib\\site-packages\\seaborn\\_decorators.py:36: FutureWarning: Pass the following variables as keyword args: x, y. From version 0.12, the only valid positional argument will be `data`, and passing other arguments without an explicit keyword will result in an error or misinterpretation.\n",
      "  warnings.warn(\n"
     ]
    },
    {
     "name": "stdout",
     "output_type": "stream",
     "text": [
      "AUC value: 0.5360934993506989\n"
     ]
    },
    {
     "data": {
      "image/png": "[encoded data removed]",
      "text/plain": [
       "<Figure size 432x288 with 1 Axes>"
      ]
     },
     "metadata": {},
     "output_type": "display_data"
    }
   ],
   "source": [
    "# Create the ROC curve and report AUC\n",
    "yp_fm1 = fm1.predict_proba(Xtest)[:,1]\n",
    "fpr1, tpr1, thresholds = roc_curve(ytest, yp_fm1 ,pos_label=1)\n",
    "ax=sns.lineplot(fpr1,tpr1)\n",
    "print('AUC value:',auc(fpr1,tpr1))\n",
    "\n",
    "#3pts"
   ]
  },
  {
   "cell_type": "markdown",
   "metadata": {
    "id": "4i-rtlvIVBg7"
   },
   "source": [
    "The manager asks you if you advice the bank to continue using the baseline model. Why or why not?\n"
   ]
  },
  {
   "cell_type": "markdown",
   "metadata": {
    "id": "T3GpzT9GVBg7"
   },
   "source": [
    "**ANSWER HERE** \\\n",
    "I do not advice the bank to continuing using the baseline model. Because the resulting AUC is around 0.5, which is almost the worst possible. And graph shows almost a straight line, which is not a really fitting model. \n",
    "[2 pt] \n"
   ]
  },
  {
   "cell_type": "markdown",
   "metadata": {
    "id": "4agkzZ79VBg8"
   },
   "source": [
    "____________"
   ]
  },
  {
   "cell_type": "markdown",
   "metadata": {
    "id": "XJw0iWztVBg8"
   },
   "source": [
    "### Question 4: /40\n",
    "\n",
    "The manager wants you to determine the best single numeric feature model to predict the default status. You are asked to create a model per each numeric variable: `mortAcc`, `pub_rec_bankruptcies`,`Log_annAmnt` `revol_util`  , `emp_length` `revol_bal`,`dti`, `ratio_inst_inc`,`Log_annualInc`,`term`,             `int_rate`. He also advises you to use the cross-validation technique to make your decision. \n"
   ]
  },
  {
   "cell_type": "markdown",
   "metadata": {
    "id": "LZVHp9H8VBg8"
   },
   "source": [
    "You remember that *cross-validation* is used to find the expected \n",
    "test error of the models. In addition, in the next code, 5 different folds are displayed using 5 fold cross-validation, using the `StratifiedKFold()` function."
   ]
  },
  {
   "cell_type": "code",
   "execution_count": 555,
   "metadata": {
    "execution": {
     "iopub.status.busy": "2022-02-10T20:59:02.100500Z",
     "iopub.status.idle": "2022-02-10T20:59:02.100888Z",
     "shell.execute_reply": "2022-02-10T20:59:02.100714Z",
     "shell.execute_reply.started": "2022-02-10T20:59:02.100695Z"
    },
    "id": "FloVxyf7VBg9"
   },
   "outputs": [
    {
     "data": {
      "text/plain": [
       "Text(0.5, 1.0, 'Cross Validation ')"
      ]
     },
     "execution_count": 555,
     "metadata": {},
     "output_type": "execute_result"
    },
    {
     "data": {
      "image/png": "[encoded data removed]",
      "text/plain": [
       "<Figure size 432x288 with 1 Axes>"
      ]
     },
     "metadata": {},
     "output_type": "display_data"
    }
   ],
   "source": [
    "# code in which you remember cross-validation technique\n",
    "str_kf = StratifiedKFold(n_splits=5)\n",
    "for j, (index_train, index_test) in enumerate(str_kf.split(X,y)):\n",
    "    plt.plot(index_train, [j+1 for s in index_train], '.')\n",
    "plt.title('Cross Validation ')"
   ]
  },
  {
   "cell_type": "markdown",
   "metadata": {
    "id": "ggqt7ljaVBg9"
   },
   "source": [
    "#### 4.1: /5\n",
    "**Define a function `AUC_calculation` with inputs `(X, y, index_train, index_test)`  which calculates the AUC of the `model1` trained on `index_train` and tested on `index_test`.**"
   ]
  },
  {
   "cell_type": "code",
   "execution_count": 556,
   "metadata": {
    "execution": {
     "iopub.status.busy": "2022-02-10T20:59:02.102213Z",
     "iopub.status.idle": "2022-02-10T20:59:02.102556Z",
     "shell.execute_reply": "2022-02-10T20:59:02.102402Z",
     "shell.execute_reply.started": "2022-02-10T20:59:02.102377Z"
    },
    "id": "kRoh-MeyVBg-"
   },
   "outputs": [],
   "source": [
    "def AUC_calculation(X, y, index_train, index_test):\n",
    "    # Define Xtrain, ytrain, Xtest, ytest \n",
    "    Xtrain, ytrain = X[X.index.isin(index_train)] , y[y.index.isin(index_train)]\n",
    "    Xtest, ytest = X[X.index.isin(index_test)] , y[y.index.isin(index_test)]\n",
    "    Xtest.head()\n",
    "    #fit the model and predict the default probabilities\n",
    "    model = model1.fit(Xtrain,ytrain.values)\n",
    "    ypre = model.predict_proba(Xtest)[:,1]\n",
    "    \n",
    "    # Calculate the auc score\n",
    "    auc = roc_auc_score(ytest,ypre)\n",
    "    return auc \n",
    "# 5 pts"
   ]
  },
  {
   "cell_type": "markdown",
   "metadata": {
    "id": "dlBwMYwbVBg_"
   },
   "source": [
    "#### 4.2: /8\n",
    "**Using `AUC_calculation` create a function named `AUC_cross_validation` which has as input (X, y, n_fold). `AUC_cross_validation` does a `n_fold` cross validation (using `StratifiedKFold`). The function's output should be a list with the AUC for each fold.** "
   ]
  },
  {
   "cell_type": "code",
   "execution_count": 557,
   "metadata": {
    "execution": {
     "iopub.status.busy": "2022-02-10T20:59:02.104459Z",
     "iopub.status.idle": "2022-02-10T20:59:02.105010Z",
     "shell.execute_reply": "2022-02-10T20:59:02.104736Z",
     "shell.execute_reply.started": "2022-02-10T20:59:02.104708Z"
    },
    "id": "zhWlUKY3VBhA"
   },
   "outputs": [],
   "source": [
    "def AUC_cross_validation(X, y, n_fold):\n",
    "    # Create the stratified folds\n",
    "    str_kf = StratifiedKFold(n_splits=n_fold)\n",
    "    # list with the auc scores\n",
    "    list_auc = []\n",
    "    # hint: take as guide the code in which you remembered cross-validation technique\n",
    "    for j,  (index_train, index_test) in enumerate(str_kf.split(X,y)):\n",
    "        list_auc.append(AUC_calculation(X, y, index_train, index_test))\n",
    "    \n",
    "    return list_auc\n",
    "# 8pts "
   ]
  },
  {
   "cell_type": "markdown",
   "metadata": {
    "id": "u55LilrfVBhB"
   },
   "source": [
    "#### 4.3: /5\n",
    "**Now you are ready to estimate and compare using cross validation the performance of all the *simple models* that only use one numeric predictor as input. Remember to use the logarithm transformation for the `annualInc` and  `loanAmnt` variables. You do not include `Year` and `installment` variables.**"
   ]
  },
  {
   "cell_type": "code",
   "execution_count": 558,
   "metadata": {
    "execution": {
     "iopub.execute_input": "2022-02-10T21:21:57.790890Z",
     "iopub.status.busy": "2022-02-10T21:21:57.790571Z",
     "iopub.status.idle": "2022-02-10T21:21:57.814693Z",
     "shell.execute_reply": "2022-02-10T21:21:57.814020Z",
     "shell.execute_reply.started": "2022-02-10T21:21:57.790853Z"
    },
    "id": "UtEU2GG7VBhC"
   },
   "outputs": [
    {
     "data": {
      "text/html": [
       "<div>\n",
       "<style scoped>\n",
       "    .dataframe tbody tr th:only-of-type {\n",
       "        vertical-align: middle;\n",
       "    }\n",
       "\n",
       "    .dataframe tbody tr th {\n",
       "        vertical-align: top;\n",
       "    }\n",
       "\n",
       "    .dataframe thead th {\n",
       "        text-align: right;\n",
       "    }\n",
       "</style>\n",
       "<table border=\"1\" class=\"dataframe\">\n",
       "  <thead>\n",
       "    <tr style=\"text-align: right;\">\n",
       "      <th></th>\n",
       "      <th>int_rate</th>\n",
       "      <th>revol_bal</th>\n",
       "      <th>revol_util</th>\n",
       "      <th>dti</th>\n",
       "      <th>emp_length</th>\n",
       "      <th>mortAcc</th>\n",
       "      <th>Log_annAmnt</th>\n",
       "      <th>pub_rec_bankruptcies</th>\n",
       "      <th>term</th>\n",
       "      <th>ratio_inst_inc</th>\n",
       "      <th>Log_annualInc</th>\n",
       "    </tr>\n",
       "  </thead>\n",
       "  <tbody>\n",
       "    <tr>\n",
       "      <th>993</th>\n",
       "      <td>14.31</td>\n",
       "      <td>55242.0</td>\n",
       "      <td>70.8</td>\n",
       "      <td>24.79</td>\n",
       "      <td>1</td>\n",
       "      <td>11</td>\n",
       "      <td>10.321375</td>\n",
       "      <td>0</td>\n",
       "      <td>36</td>\n",
       "      <td>0.083418</td>\n",
       "      <td>11.918391</td>\n",
       "    </tr>\n",
       "    <tr>\n",
       "      <th>859</th>\n",
       "      <td>18.85</td>\n",
       "      <td>5944.0</td>\n",
       "      <td>91.4</td>\n",
       "      <td>21.32</td>\n",
       "      <td>3</td>\n",
       "      <td>4</td>\n",
       "      <td>8.507143</td>\n",
       "      <td>0</td>\n",
       "      <td>36</td>\n",
       "      <td>0.127821</td>\n",
       "      <td>9.740969</td>\n",
       "    </tr>\n",
       "    <tr>\n",
       "      <th>298</th>\n",
       "      <td>16.49</td>\n",
       "      <td>7303.0</td>\n",
       "      <td>46.5</td>\n",
       "      <td>5.30</td>\n",
       "      <td>1</td>\n",
       "      <td>8</td>\n",
       "      <td>8.294050</td>\n",
       "      <td>0</td>\n",
       "      <td>36</td>\n",
       "      <td>0.041444</td>\n",
       "      <td>10.621327</td>\n",
       "    </tr>\n",
       "    <tr>\n",
       "      <th>553</th>\n",
       "      <td>9.67</td>\n",
       "      <td>13917.0</td>\n",
       "      <td>58.0</td>\n",
       "      <td>5.42</td>\n",
       "      <td>4</td>\n",
       "      <td>9</td>\n",
       "      <td>9.210340</td>\n",
       "      <td>0</td>\n",
       "      <td>36</td>\n",
       "      <td>0.059286</td>\n",
       "      <td>11.082143</td>\n",
       "    </tr>\n",
       "    <tr>\n",
       "      <th>672</th>\n",
       "      <td>16.29</td>\n",
       "      <td>10265.0</td>\n",
       "      <td>60.0</td>\n",
       "      <td>21.00</td>\n",
       "      <td>1</td>\n",
       "      <td>15</td>\n",
       "      <td>9.102198</td>\n",
       "      <td>0</td>\n",
       "      <td>36</td>\n",
       "      <td>0.126732</td>\n",
       "      <td>10.308953</td>\n",
       "    </tr>\n",
       "  </tbody>\n",
       "</table>\n",
       "</div>"
      ],
      "text/plain": [
       "     int_rate  revol_bal  revol_util    dti  emp_length  mortAcc  Log_annAmnt  \\\n",
       "993     14.31    55242.0        70.8  24.79           1       11    10.321375   \n",
       "859     18.85     5944.0        91.4  21.32           3        4     8.507143   \n",
       "298     16.49     7303.0        46.5   5.30           1        8     8.294050   \n",
       "553      9.67    13917.0        58.0   5.42           4        9     9.210340   \n",
       "672     16.29    10265.0        60.0  21.00           1       15     9.102198   \n",
       "\n",
       "     pub_rec_bankruptcies  term  ratio_inst_inc  Log_annualInc  \n",
       "993                     0    36        0.083418      11.918391  \n",
       "859                     0    36        0.127821       9.740969  \n",
       "298                     0    36        0.041444      10.621327  \n",
       "553                     0    36        0.059286      11.082143  \n",
       "672                     0    36        0.126732      10.308953  "
      ]
     },
     "execution_count": 558,
     "metadata": {},
     "output_type": "execute_result"
    }
   ],
   "source": [
    "# Extract from Data1 only the numeric features\n",
    "\n",
    "Data1_num = Data1.select_dtypes(include=np.number)\n",
    "\n",
    "# Transform the variables using logarithm function, name these new variables\n",
    "# Log_annualInc and Log_annAmnt \n",
    "# Log_annualInc is done in question 2\n",
    "Data1_num.insert(10,'Log_annAmnt', np.log(Data1_num['loanAmnt']))\n",
    "\n",
    "# Eliminate the variables Year and installment,and the originals\n",
    "# annualInc and loanAmnt\n",
    "Data1_y = Data1_num['loanDefault']\n",
    "Data1_num = Data1_num.drop(['annualInc','loanAmnt','Year','installment','loanDefault'],axis='columns')\n",
    "Data1_num = pd.DataFrame(Data1_num)\n",
    "\n",
    "# print the first 5 rows of Data1_num\n",
    "Data1_num.head()\n",
    "\n",
    "# 5pts"
   ]
  },
  {
   "cell_type": "markdown",
   "metadata": {
    "id": "DkEyRVeaVBhC"
   },
   "source": [
    "#### 4.4: /8\n",
    "\n",
    "**Use your function `AUC_cross_validation` to compute cross-validation estimates of the AUC for each single numeric feature model, use a data frame (named `AUC_models`) to report the AUC value for each fold and each of the models. (Use `n_fold=10`).**\n",
    "\n",
    "**The column names of `AUC_models` have to be in the form `Simple-numeric predictor variable`, e.g `simple-int_rate`.**"
   ]
  },
  {
   "cell_type": "code",
   "execution_count": 559,
   "metadata": {
    "execution": {
     "iopub.status.busy": "2022-02-10T20:59:02.109253Z",
     "iopub.status.idle": "2022-02-10T20:59:02.109717Z",
     "shell.execute_reply": "2022-02-10T20:59:02.109495Z",
     "shell.execute_reply.started": "2022-02-10T20:59:02.109470Z"
    },
    "id": "v5zUEaWCVBhC"
   },
   "outputs": [],
   "source": [
    "# Construct AUC_models dataframe\n",
    "n_fold = 10\n",
    "\n",
    "AUC_models = pd.DataFrame()\n",
    "for col_name in Data1_num.columns:\n",
    "    AUC_models['simple-'+col_name] = AUC_cross_validation(Data1_num[[col_name]], Data1_y, n_fold)\n",
    "    \n",
    "\n",
    "#8 pts"
   ]
  },
  {
   "cell_type": "code",
   "execution_count": 560,
   "metadata": {
    "execution": {
     "iopub.status.busy": "2022-02-10T20:59:02.111459Z",
     "iopub.status.idle": "2022-02-10T20:59:02.111821Z",
     "shell.execute_reply": "2022-02-10T20:59:02.111675Z",
     "shell.execute_reply.started": "2022-02-10T20:59:02.111656Z"
    },
    "id": "g_ezWp-JVBhC"
   },
   "outputs": [
    {
     "data": {
      "text/html": [
       "<div>\n",
       "<style scoped>\n",
       "    .dataframe tbody tr th:only-of-type {\n",
       "        vertical-align: middle;\n",
       "    }\n",
       "\n",
       "    .dataframe tbody tr th {\n",
       "        vertical-align: top;\n",
       "    }\n",
       "\n",
       "    .dataframe thead th {\n",
       "        text-align: right;\n",
       "    }\n",
       "</style>\n",
       "<table border=\"1\" class=\"dataframe\">\n",
       "  <thead>\n",
       "    <tr style=\"text-align: right;\">\n",
       "      <th></th>\n",
       "      <th>simple-int_rate</th>\n",
       "      <th>simple-revol_bal</th>\n",
       "      <th>simple-revol_util</th>\n",
       "      <th>simple-dti</th>\n",
       "      <th>simple-emp_length</th>\n",
       "      <th>simple-mortAcc</th>\n",
       "      <th>simple-Log_annAmnt</th>\n",
       "      <th>simple-pub_rec_bankruptcies</th>\n",
       "      <th>simple-term</th>\n",
       "      <th>simple-ratio_inst_inc</th>\n",
       "      <th>simple-Log_annualInc</th>\n",
       "    </tr>\n",
       "  </thead>\n",
       "  <tbody>\n",
       "    <tr>\n",
       "      <th>0</th>\n",
       "      <td>0.723529</td>\n",
       "      <td>0.542745</td>\n",
       "      <td>0.573333</td>\n",
       "      <td>0.617647</td>\n",
       "      <td>0.473725</td>\n",
       "      <td>0.604706</td>\n",
       "      <td>0.405882</td>\n",
       "      <td>0.470588</td>\n",
       "      <td>0.621569</td>\n",
       "      <td>0.507451</td>\n",
       "      <td>0.705882</td>\n",
       "    </tr>\n",
       "    <tr>\n",
       "      <th>1</th>\n",
       "      <td>0.781875</td>\n",
       "      <td>0.567500</td>\n",
       "      <td>0.528125</td>\n",
       "      <td>0.503750</td>\n",
       "      <td>0.659375</td>\n",
       "      <td>0.484688</td>\n",
       "      <td>0.630937</td>\n",
       "      <td>0.500000</td>\n",
       "      <td>0.625000</td>\n",
       "      <td>0.587500</td>\n",
       "      <td>0.430000</td>\n",
       "    </tr>\n",
       "    <tr>\n",
       "      <th>2</th>\n",
       "      <td>0.613060</td>\n",
       "      <td>0.588044</td>\n",
       "      <td>0.496751</td>\n",
       "      <td>0.514620</td>\n",
       "      <td>0.459714</td>\n",
       "      <td>0.558804</td>\n",
       "      <td>0.449968</td>\n",
       "      <td>0.525016</td>\n",
       "      <td>0.571475</td>\n",
       "      <td>0.614035</td>\n",
       "      <td>0.713125</td>\n",
       "    </tr>\n",
       "    <tr>\n",
       "      <th>3</th>\n",
       "      <td>0.661130</td>\n",
       "      <td>0.534884</td>\n",
       "      <td>0.456811</td>\n",
       "      <td>0.693937</td>\n",
       "      <td>0.552741</td>\n",
       "      <td>0.503322</td>\n",
       "      <td>0.571013</td>\n",
       "      <td>0.518272</td>\n",
       "      <td>0.544020</td>\n",
       "      <td>0.738372</td>\n",
       "      <td>0.627492</td>\n",
       "    </tr>\n",
       "    <tr>\n",
       "      <th>4</th>\n",
       "      <td>0.534375</td>\n",
       "      <td>0.464375</td>\n",
       "      <td>0.494063</td>\n",
       "      <td>0.540000</td>\n",
       "      <td>0.533750</td>\n",
       "      <td>0.478125</td>\n",
       "      <td>0.473750</td>\n",
       "      <td>0.575000</td>\n",
       "      <td>0.550000</td>\n",
       "      <td>0.490000</td>\n",
       "      <td>0.517188</td>\n",
       "    </tr>\n",
       "    <tr>\n",
       "      <th>5</th>\n",
       "      <td>0.736287</td>\n",
       "      <td>0.658228</td>\n",
       "      <td>0.466546</td>\n",
       "      <td>0.498794</td>\n",
       "      <td>0.540084</td>\n",
       "      <td>0.521700</td>\n",
       "      <td>0.490356</td>\n",
       "      <td>0.495479</td>\n",
       "      <td>0.517782</td>\n",
       "      <td>0.480410</td>\n",
       "      <td>0.486739</td>\n",
       "    </tr>\n",
       "    <tr>\n",
       "      <th>6</th>\n",
       "      <td>0.739203</td>\n",
       "      <td>0.547342</td>\n",
       "      <td>0.711379</td>\n",
       "      <td>0.574751</td>\n",
       "      <td>0.474252</td>\n",
       "      <td>0.549419</td>\n",
       "      <td>0.597176</td>\n",
       "      <td>0.489203</td>\n",
       "      <td>0.579734</td>\n",
       "      <td>0.759136</td>\n",
       "      <td>0.661545</td>\n",
       "    </tr>\n",
       "    <tr>\n",
       "      <th>7</th>\n",
       "      <td>0.778103</td>\n",
       "      <td>0.449643</td>\n",
       "      <td>0.544834</td>\n",
       "      <td>0.501949</td>\n",
       "      <td>0.471085</td>\n",
       "      <td>0.523392</td>\n",
       "      <td>0.570500</td>\n",
       "      <td>0.482781</td>\n",
       "      <td>0.743340</td>\n",
       "      <td>0.478233</td>\n",
       "      <td>0.471735</td>\n",
       "    </tr>\n",
       "    <tr>\n",
       "      <th>8</th>\n",
       "      <td>0.616875</td>\n",
       "      <td>0.542500</td>\n",
       "      <td>0.575313</td>\n",
       "      <td>0.623125</td>\n",
       "      <td>0.586250</td>\n",
       "      <td>0.534375</td>\n",
       "      <td>0.474062</td>\n",
       "      <td>0.575000</td>\n",
       "      <td>0.606250</td>\n",
       "      <td>0.595000</td>\n",
       "      <td>0.627500</td>\n",
       "    </tr>\n",
       "    <tr>\n",
       "      <th>9</th>\n",
       "      <td>0.434089</td>\n",
       "      <td>0.532247</td>\n",
       "      <td>0.391566</td>\n",
       "      <td>0.572644</td>\n",
       "      <td>0.587881</td>\n",
       "      <td>0.463501</td>\n",
       "      <td>0.494685</td>\n",
       "      <td>0.469880</td>\n",
       "      <td>0.538625</td>\n",
       "      <td>0.462084</td>\n",
       "      <td>0.506378</td>\n",
       "    </tr>\n",
       "  </tbody>\n",
       "</table>\n",
       "</div>"
      ],
      "text/plain": [
       "   simple-int_rate  simple-revol_bal  simple-revol_util  simple-dti  \\\n",
       "0         0.723529          0.542745           0.573333    0.617647   \n",
       "1         0.781875          0.567500           0.528125    0.503750   \n",
       "2         0.613060          0.588044           0.496751    0.514620   \n",
       "3         0.661130          0.534884           0.456811    0.693937   \n",
       "4         0.534375          0.464375           0.494063    0.540000   \n",
       "5         0.736287          0.658228           0.466546    0.498794   \n",
       "6         0.739203          0.547342           0.711379    0.574751   \n",
       "7         0.778103          0.449643           0.544834    0.501949   \n",
       "8         0.616875          0.542500           0.575313    0.623125   \n",
       "9         0.434089          0.532247           0.391566    0.572644   \n",
       "\n",
       "   simple-emp_length  simple-mortAcc  simple-Log_annAmnt  \\\n",
       "0           0.473725        0.604706            0.405882   \n",
       "1           0.659375        0.484688            0.630937   \n",
       "2           0.459714        0.558804            0.449968   \n",
       "3           0.552741        0.503322            0.571013   \n",
       "4           0.533750        0.478125            0.473750   \n",
       "5           0.540084        0.521700            0.490356   \n",
       "6           0.474252        0.549419            0.597176   \n",
       "7           0.471085        0.523392            0.570500   \n",
       "8           0.586250        0.534375            0.474062   \n",
       "9           0.587881        0.463501            0.494685   \n",
       "\n",
       "   simple-pub_rec_bankruptcies  simple-term  simple-ratio_inst_inc  \\\n",
       "0                     0.470588     0.621569               0.507451   \n",
       "1                     0.500000     0.625000               0.587500   \n",
       "2                     0.525016     0.571475               0.614035   \n",
       "3                     0.518272     0.544020               0.738372   \n",
       "4                     0.575000     0.550000               0.490000   \n",
       "5                     0.495479     0.517782               0.480410   \n",
       "6                     0.489203     0.579734               0.759136   \n",
       "7                     0.482781     0.743340               0.478233   \n",
       "8                     0.575000     0.606250               0.595000   \n",
       "9                     0.469880     0.538625               0.462084   \n",
       "\n",
       "   simple-Log_annualInc  \n",
       "0              0.705882  \n",
       "1              0.430000  \n",
       "2              0.713125  \n",
       "3              0.627492  \n",
       "4              0.517188  \n",
       "5              0.486739  \n",
       "6              0.661545  \n",
       "7              0.471735  \n",
       "8              0.627500  \n",
       "9              0.506378  "
      ]
     },
     "execution_count": 560,
     "metadata": {},
     "output_type": "execute_result"
    }
   ],
   "source": [
    "# Print AUC_models dataframe \n",
    "AUC_models"
   ]
  },
  {
   "cell_type": "code",
   "execution_count": 561,
   "metadata": {
    "execution": {
     "iopub.status.busy": "2022-02-10T20:59:02.112861Z",
     "iopub.status.idle": "2022-02-10T20:59:02.113186Z",
     "shell.execute_reply": "2022-02-10T20:59:02.113041Z",
     "shell.execute_reply.started": "2022-02-10T20:59:02.113024Z"
    },
    "id": "zI09UOUVVBhD"
   },
   "outputs": [
    {
     "data": {
      "text/plain": [
       "(10, 11)"
      ]
     },
     "execution_count": 561,
     "metadata": {},
     "output_type": "execute_result"
    }
   ],
   "source": [
    "# print the shape of AUC_models dataframe\n",
    "AUC_models.shape"
   ]
  },
  {
   "cell_type": "code",
   "execution_count": null,
   "metadata": {},
   "outputs": [],
   "source": []
  },
  {
   "cell_type": "markdown",
   "metadata": {
    "id": "W_pRoYEDVBhD"
   },
   "source": [
    "#### 4.5: /7\n",
    "\n",
    "**Decide which of the studied models has the best and the worst performance, using a boxplot (without presenting outliers) that shows the distribution of the previous AUC scores for every model.** (Again, do not forget labels!)\n",
    "\n",
    "*The manager expects you to present a boxplot in which the means of the AUC scores are, organized ascending. Of course, you include the axis labels, and the name of each model should be clearly seen!*"
   ]
  },
  {
   "cell_type": "code",
   "execution_count": 562,
   "metadata": {
    "execution": {
     "iopub.status.busy": "2022-02-10T20:59:02.114513Z",
     "iopub.status.idle": "2022-02-10T20:59:02.114796Z",
     "shell.execute_reply": "2022-02-10T20:59:02.114668Z",
     "shell.execute_reply.started": "2022-02-10T20:59:02.114652Z"
    },
    "id": "U95B1ADsVBhE"
   },
   "outputs": [
    {
     "data": {
      "image/png": "[encoded data removed]",
      "text/plain": [
       "<Figure size 432x288 with 1 Axes>"
      ]
     },
     "metadata": {},
     "output_type": "display_data"
    }
   ],
   "source": [
    "# Code to plot the boxplots organized as required\n",
    "\n",
    "sns.set_palette('Set2')\n",
    "sns.boxplot(x=\"value\", y=\"variable\", data=pd.melt(AUC_models),showfliers=False)\n",
    "plt.xlabel('models')\n",
    "plt.ylabel('AUC value')\n",
    "plt.show()\n",
    "#6 pts"
   ]
  },
  {
   "cell_type": "markdown",
   "metadata": {
    "id": "4-ZTNwwQVBhF"
   },
   "source": [
    "**ANSWER HERE:**[1 pt] \\\n",
    "The model with int_rate seems to have the best performance since the majority auc result is around 0.6 and 0.7. The worst performance is the Log_annualamnt. It has the lowest median, which indicates that most data are sround 0.4 and 0.5. \n"
   ]
  },
  {
   "cell_type": "markdown",
   "metadata": {
    "id": "CFwYruM2VBhF"
   },
   "source": [
    "#### 4.6: /7\n",
    "**The manager got surprised by your previous results! You are asked to compare these models with the one including all the numeric variables** \n",
    "\n",
    "**You again will use 10-fold cross-validation to determine if this new model has better performance, and at the end, you want to plot the boxplots with the information of this new model.**  "
   ]
  },
  {
   "cell_type": "code",
   "execution_count": 563,
   "metadata": {
    "execution": {
     "iopub.status.busy": "2022-02-10T20:59:02.115909Z",
     "iopub.status.idle": "2022-02-10T20:59:02.116248Z",
     "shell.execute_reply": "2022-02-10T20:59:02.116110Z",
     "shell.execute_reply.started": "2022-02-10T20:59:02.116094Z"
    },
    "id": "CemvoPQ0VBhG"
   },
   "outputs": [
    {
     "data": {
      "text/html": [
       "<div>\n",
       "<style scoped>\n",
       "    .dataframe tbody tr th:only-of-type {\n",
       "        vertical-align: middle;\n",
       "    }\n",
       "\n",
       "    .dataframe tbody tr th {\n",
       "        vertical-align: top;\n",
       "    }\n",
       "\n",
       "    .dataframe thead th {\n",
       "        text-align: right;\n",
       "    }\n",
       "</style>\n",
       "<table border=\"1\" class=\"dataframe\">\n",
       "  <thead>\n",
       "    <tr style=\"text-align: right;\">\n",
       "      <th></th>\n",
       "      <th>simple-int_rate</th>\n",
       "      <th>simple-revol_bal</th>\n",
       "      <th>simple-revol_util</th>\n",
       "      <th>simple-dti</th>\n",
       "      <th>simple-emp_length</th>\n",
       "      <th>simple-mortAcc</th>\n",
       "      <th>simple-Log_annAmnt</th>\n",
       "      <th>simple-pub_rec_bankruptcies</th>\n",
       "      <th>simple-term</th>\n",
       "      <th>simple-ratio_inst_inc</th>\n",
       "      <th>simple-Log_annualInc</th>\n",
       "      <th>All_numeric</th>\n",
       "    </tr>\n",
       "  </thead>\n",
       "  <tbody>\n",
       "    <tr>\n",
       "      <th>0</th>\n",
       "      <td>0.723529</td>\n",
       "      <td>0.542745</td>\n",
       "      <td>0.573333</td>\n",
       "      <td>0.617647</td>\n",
       "      <td>0.473725</td>\n",
       "      <td>0.604706</td>\n",
       "      <td>0.405882</td>\n",
       "      <td>0.470588</td>\n",
       "      <td>0.621569</td>\n",
       "      <td>0.507451</td>\n",
       "      <td>0.705882</td>\n",
       "      <td>0.794510</td>\n",
       "    </tr>\n",
       "    <tr>\n",
       "      <th>1</th>\n",
       "      <td>0.781875</td>\n",
       "      <td>0.567500</td>\n",
       "      <td>0.528125</td>\n",
       "      <td>0.503750</td>\n",
       "      <td>0.659375</td>\n",
       "      <td>0.484688</td>\n",
       "      <td>0.630937</td>\n",
       "      <td>0.500000</td>\n",
       "      <td>0.625000</td>\n",
       "      <td>0.587500</td>\n",
       "      <td>0.430000</td>\n",
       "      <td>0.733750</td>\n",
       "    </tr>\n",
       "    <tr>\n",
       "      <th>2</th>\n",
       "      <td>0.613060</td>\n",
       "      <td>0.588044</td>\n",
       "      <td>0.496751</td>\n",
       "      <td>0.514620</td>\n",
       "      <td>0.459714</td>\n",
       "      <td>0.558804</td>\n",
       "      <td>0.449968</td>\n",
       "      <td>0.525016</td>\n",
       "      <td>0.571475</td>\n",
       "      <td>0.614035</td>\n",
       "      <td>0.713125</td>\n",
       "      <td>0.657570</td>\n",
       "    </tr>\n",
       "    <tr>\n",
       "      <th>3</th>\n",
       "      <td>0.661130</td>\n",
       "      <td>0.534884</td>\n",
       "      <td>0.456811</td>\n",
       "      <td>0.693937</td>\n",
       "      <td>0.552741</td>\n",
       "      <td>0.503322</td>\n",
       "      <td>0.571013</td>\n",
       "      <td>0.518272</td>\n",
       "      <td>0.544020</td>\n",
       "      <td>0.738372</td>\n",
       "      <td>0.627492</td>\n",
       "      <td>0.656977</td>\n",
       "    </tr>\n",
       "    <tr>\n",
       "      <th>4</th>\n",
       "      <td>0.534375</td>\n",
       "      <td>0.464375</td>\n",
       "      <td>0.494063</td>\n",
       "      <td>0.540000</td>\n",
       "      <td>0.533750</td>\n",
       "      <td>0.478125</td>\n",
       "      <td>0.473750</td>\n",
       "      <td>0.575000</td>\n",
       "      <td>0.550000</td>\n",
       "      <td>0.490000</td>\n",
       "      <td>0.517188</td>\n",
       "      <td>0.542500</td>\n",
       "    </tr>\n",
       "    <tr>\n",
       "      <th>5</th>\n",
       "      <td>0.736287</td>\n",
       "      <td>0.658228</td>\n",
       "      <td>0.466546</td>\n",
       "      <td>0.498794</td>\n",
       "      <td>0.540084</td>\n",
       "      <td>0.521700</td>\n",
       "      <td>0.490356</td>\n",
       "      <td>0.495479</td>\n",
       "      <td>0.517782</td>\n",
       "      <td>0.480410</td>\n",
       "      <td>0.486739</td>\n",
       "      <td>0.730561</td>\n",
       "    </tr>\n",
       "    <tr>\n",
       "      <th>6</th>\n",
       "      <td>0.739203</td>\n",
       "      <td>0.547342</td>\n",
       "      <td>0.711379</td>\n",
       "      <td>0.574751</td>\n",
       "      <td>0.474252</td>\n",
       "      <td>0.549419</td>\n",
       "      <td>0.597176</td>\n",
       "      <td>0.489203</td>\n",
       "      <td>0.579734</td>\n",
       "      <td>0.759136</td>\n",
       "      <td>0.661545</td>\n",
       "      <td>0.681063</td>\n",
       "    </tr>\n",
       "    <tr>\n",
       "      <th>7</th>\n",
       "      <td>0.778103</td>\n",
       "      <td>0.449643</td>\n",
       "      <td>0.544834</td>\n",
       "      <td>0.501949</td>\n",
       "      <td>0.471085</td>\n",
       "      <td>0.523392</td>\n",
       "      <td>0.570500</td>\n",
       "      <td>0.482781</td>\n",
       "      <td>0.743340</td>\n",
       "      <td>0.478233</td>\n",
       "      <td>0.471735</td>\n",
       "      <td>0.684860</td>\n",
       "    </tr>\n",
       "    <tr>\n",
       "      <th>8</th>\n",
       "      <td>0.616875</td>\n",
       "      <td>0.542500</td>\n",
       "      <td>0.575313</td>\n",
       "      <td>0.623125</td>\n",
       "      <td>0.586250</td>\n",
       "      <td>0.534375</td>\n",
       "      <td>0.474062</td>\n",
       "      <td>0.575000</td>\n",
       "      <td>0.606250</td>\n",
       "      <td>0.595000</td>\n",
       "      <td>0.627500</td>\n",
       "      <td>0.697500</td>\n",
       "    </tr>\n",
       "    <tr>\n",
       "      <th>9</th>\n",
       "      <td>0.434089</td>\n",
       "      <td>0.532247</td>\n",
       "      <td>0.391566</td>\n",
       "      <td>0.572644</td>\n",
       "      <td>0.587881</td>\n",
       "      <td>0.463501</td>\n",
       "      <td>0.494685</td>\n",
       "      <td>0.469880</td>\n",
       "      <td>0.538625</td>\n",
       "      <td>0.462084</td>\n",
       "      <td>0.506378</td>\n",
       "      <td>0.491850</td>\n",
       "    </tr>\n",
       "  </tbody>\n",
       "</table>\n",
       "</div>"
      ],
      "text/plain": [
       "   simple-int_rate  simple-revol_bal  simple-revol_util  simple-dti  \\\n",
       "0         0.723529          0.542745           0.573333    0.617647   \n",
       "1         0.781875          0.567500           0.528125    0.503750   \n",
       "2         0.613060          0.588044           0.496751    0.514620   \n",
       "3         0.661130          0.534884           0.456811    0.693937   \n",
       "4         0.534375          0.464375           0.494063    0.540000   \n",
       "5         0.736287          0.658228           0.466546    0.498794   \n",
       "6         0.739203          0.547342           0.711379    0.574751   \n",
       "7         0.778103          0.449643           0.544834    0.501949   \n",
       "8         0.616875          0.542500           0.575313    0.623125   \n",
       "9         0.434089          0.532247           0.391566    0.572644   \n",
       "\n",
       "   simple-emp_length  simple-mortAcc  simple-Log_annAmnt  \\\n",
       "0           0.473725        0.604706            0.405882   \n",
       "1           0.659375        0.484688            0.630937   \n",
       "2           0.459714        0.558804            0.449968   \n",
       "3           0.552741        0.503322            0.571013   \n",
       "4           0.533750        0.478125            0.473750   \n",
       "5           0.540084        0.521700            0.490356   \n",
       "6           0.474252        0.549419            0.597176   \n",
       "7           0.471085        0.523392            0.570500   \n",
       "8           0.586250        0.534375            0.474062   \n",
       "9           0.587881        0.463501            0.494685   \n",
       "\n",
       "   simple-pub_rec_bankruptcies  simple-term  simple-ratio_inst_inc  \\\n",
       "0                     0.470588     0.621569               0.507451   \n",
       "1                     0.500000     0.625000               0.587500   \n",
       "2                     0.525016     0.571475               0.614035   \n",
       "3                     0.518272     0.544020               0.738372   \n",
       "4                     0.575000     0.550000               0.490000   \n",
       "5                     0.495479     0.517782               0.480410   \n",
       "6                     0.489203     0.579734               0.759136   \n",
       "7                     0.482781     0.743340               0.478233   \n",
       "8                     0.575000     0.606250               0.595000   \n",
       "9                     0.469880     0.538625               0.462084   \n",
       "\n",
       "   simple-Log_annualInc  All_numeric  \n",
       "0              0.705882     0.794510  \n",
       "1              0.430000     0.733750  \n",
       "2              0.713125     0.657570  \n",
       "3              0.627492     0.656977  \n",
       "4              0.517188     0.542500  \n",
       "5              0.486739     0.730561  \n",
       "6              0.661545     0.681063  \n",
       "7              0.471735     0.684860  \n",
       "8              0.627500     0.697500  \n",
       "9              0.506378     0.491850  "
      ]
     },
     "execution_count": 563,
     "metadata": {},
     "output_type": "execute_result"
    }
   ],
   "source": [
    "\n",
    "# Print the modified data frame \n",
    "AUC_models[\"All_numeric\"] = AUC_cross_validation(Data1_num, Data1_y, n_fold)\n",
    "AUC_models\n",
    "\n",
    "# 4 pts "
   ]
  },
  {
   "cell_type": "code",
   "execution_count": 564,
   "metadata": {
    "execution": {
     "iopub.status.busy": "2022-02-10T20:59:02.117871Z",
     "iopub.status.idle": "2022-02-10T20:59:02.118369Z",
     "shell.execute_reply": "2022-02-10T20:59:02.118145Z",
     "shell.execute_reply.started": "2022-02-10T20:59:02.118110Z"
    },
    "id": "MsDx0ZEXVBhG"
   },
   "outputs": [
    {
     "data": {
      "image/png": "[encoded data removed]",
      "text/plain": [
       "<Figure size 432x288 with 1 Axes>"
      ]
     },
     "metadata": {},
     "output_type": "display_data"
    }
   ],
   "source": [
    "# Plot the boxplots\n",
    "sns.boxplot(x=\"value\", y=\"variable\", data=pd.melt(AUC_models),showfliers=False)\n",
    "plt.xlabel('models')\n",
    "plt.ylabel('AUC value')\n",
    "plt.show()\n",
    "\n",
    "# 3pt"
   ]
  },
  {
   "cell_type": "markdown",
   "metadata": {
    "id": "3Bhr1amjVBhG"
   },
   "source": [
    "_____________"
   ]
  },
  {
   "cell_type": "markdown",
   "metadata": {
    "id": "AeoU4oJtVBhH"
   },
   "source": [
    "### Question 5: /10\n",
    "\n",
    "Finally, the manager askes you to continue from `All_numeric` model and include some categorical variables that have not been used so far. You plan to do this in two steps:"
   ]
  },
  {
   "cell_type": "markdown",
   "metadata": {
    "id": "otT4alxNVBhH"
   },
   "source": [
    "1.First, add the variable `Grade` to the model."
   ]
  },
  {
   "cell_type": "code",
   "execution_count": 565,
   "metadata": {
    "execution": {
     "iopub.status.busy": "2022-02-10T20:59:02.119407Z",
     "iopub.status.idle": "2022-02-10T20:59:02.119863Z",
     "shell.execute_reply": "2022-02-10T20:59:02.119633Z",
     "shell.execute_reply.started": "2022-02-10T20:59:02.119609Z"
    },
    "id": "9FnMmlQmVBhH"
   },
   "outputs": [],
   "source": [
    "# Use pandas.get_dummies() to incorporating grade, do not forget to use drop_first=True \n",
    "new = pd.get_dummies(Data1['grade'],drop_first=True )\n",
    "# Add this feature to all the numeric variables\n",
    "Data1_num_grade = pd.concat([Data1_num, new], axis=1)\n",
    "# Calculate the auc scores using cross validation\n",
    "score = AUC_cross_validation(Data1_num, Data1_y, n_fold)\n",
    "# Include the auc scores in the AUC_models DataFrame in the column 'All_numeric_&_Grade'\n",
    "AUC_models[\"All_numeric_&_Grade\"] = score"
   ]
  },
  {
   "cell_type": "code",
   "execution_count": 566,
   "metadata": {
    "execution": {
     "iopub.status.busy": "2022-02-10T20:59:02.121448Z",
     "iopub.status.idle": "2022-02-10T20:59:02.121894Z",
     "shell.execute_reply": "2022-02-10T20:59:02.121680Z",
     "shell.execute_reply.started": "2022-02-10T20:59:02.121656Z"
    },
    "id": "0lVE1bFzVBhH"
   },
   "outputs": [
    {
     "data": {
      "text/plain": [
       "simple-pub_rec_bankruptcies    0.510122\n",
       "simple-Log_annAmnt             0.515833\n",
       "simple-mortAcc                 0.522203\n",
       "simple-revol_util              0.523872\n",
       "simple-emp_length              0.533886\n",
       "simple-revol_bal               0.542751\n",
       "simple-dti                     0.564122\n",
       "simple-ratio_inst_inc          0.571222\n",
       "simple-Log_annualInc           0.574758\n",
       "simple-term                    0.589779\n",
       "simple-int_rate                0.661853\n",
       "All_numeric                    0.667114\n",
       "All_numeric_&_Grade            0.667114\n",
       "dtype: float64"
      ]
     },
     "execution_count": 566,
     "metadata": {},
     "output_type": "execute_result"
    }
   ],
   "source": [
    "# Print the AUC mean for each of the models in ascending order\n",
    "AUC_models.mean(axis=0).sort_values()\n",
    "# 4 pts"
   ]
  },
  {
   "cell_type": "markdown",
   "metadata": {
    "id": "FzBJxmEBVBhJ"
   },
   "source": [
    "2. Secondly add the `purpose` variable to the model `All_numeric_&_Grade`. "
   ]
  },
  {
   "cell_type": "code",
   "execution_count": 567,
   "metadata": {
    "execution": {
     "iopub.status.busy": "2022-02-10T20:59:02.123373Z",
     "iopub.status.idle": "2022-02-10T20:59:02.123818Z",
     "shell.execute_reply": "2022-02-10T20:59:02.123601Z",
     "shell.execute_reply.started": "2022-02-10T20:59:02.123576Z"
    },
    "id": "FoQexa6uVBhJ"
   },
   "outputs": [],
   "source": [
    "# Use pandas.get_dummies() to incorporating job, do not forget to use drop_first=True \n",
    "new = pd.get_dummies(Data1['purpose'],drop_first=True )\n",
    "# Add this feature to all the numeric variables\n",
    "Data1_num_grade_pur = pd.concat([Data1_num, new], axis=1)\n",
    "# Calculate the auc scores using cross validation\n",
    "score = AUC_cross_validation(Data1_num, Data1_y, n_fold)\n",
    "AUC_models[\"All_numeric_&_Grade_pur\"] = score"
   ]
  },
  {
   "cell_type": "code",
   "execution_count": 568,
   "metadata": {
    "execution": {
     "iopub.status.busy": "2022-02-10T20:59:02.125280Z",
     "iopub.status.idle": "2022-02-10T20:59:02.125741Z",
     "shell.execute_reply": "2022-02-10T20:59:02.125506Z",
     "shell.execute_reply.started": "2022-02-10T20:59:02.125483Z"
    },
    "id": "P6uebP08VBhJ"
   },
   "outputs": [
    {
     "data": {
      "text/plain": [
       "simple-pub_rec_bankruptcies    0.510122\n",
       "simple-Log_annAmnt             0.515833\n",
       "simple-mortAcc                 0.522203\n",
       "simple-revol_util              0.523872\n",
       "simple-emp_length              0.533886\n",
       "simple-revol_bal               0.542751\n",
       "simple-dti                     0.564122\n",
       "simple-ratio_inst_inc          0.571222\n",
       "simple-Log_annualInc           0.574758\n",
       "simple-term                    0.589779\n",
       "simple-int_rate                0.661853\n",
       "All_numeric                    0.667114\n",
       "All_numeric_&_Grade            0.667114\n",
       "All_numeric_&_Grade_pur        0.667114\n",
       "dtype: float64"
      ]
     },
     "execution_count": 568,
     "metadata": {},
     "output_type": "execute_result"
    }
   ],
   "source": [
    "# Print the AUC mean for each of the models in ascending order\n",
    "AUC_models.mean(axis=0).sort_values()\n",
    "#4 pts"
   ]
  },
  {
   "cell_type": "markdown",
   "metadata": {
    "id": "LO1jj7JPVBhJ"
   },
   "source": [
    "Because of your previous results, you decided to select the `All_numeric` model. Looking at your previous results, explain why you made this choice. "
   ]
  },
  {
   "cell_type": "markdown",
   "metadata": {
    "id": "Z0uXLfQQVBhJ"
   },
   "source": [
    "**ANSWER HERE:**[2pt] \\\n",
    "When adding the dummy variables grade and purpose, the mean AUC score does not change at all. The model does not become better. In this case, therefore we choose the simpliest model all_numeric among three.\n"
   ]
  },
  {
   "cell_type": "markdown",
   "metadata": {
    "id": "98ukkfIJVBhJ"
   },
   "source": [
    "______________"
   ]
  },
  {
   "cell_type": "markdown",
   "metadata": {
    "id": "atiAIprxVBhK"
   },
   "source": [
    "### Question 6: /15pts\n",
    "\n",
    "You've successfully convinced the manager to use the model you selected! Now it is time to train it on all the training data. Estimate the performance of this model on the test data and do the following (For this, use a 70/30 train-test split of the data, remember to set `random_state=0` in the function `train_test_split` ): \n",
    "\n",
    "- Use boostrap technique to find the 95% CI for the AUC. \n",
    "- Plot the distribution of the boostrap AUC scores."
   ]
  },
  {
   "cell_type": "code",
   "execution_count": 569,
   "metadata": {
    "execution": {
     "iopub.status.busy": "2022-02-10T20:59:02.127318Z",
     "iopub.status.idle": "2022-02-10T20:59:02.128348Z",
     "shell.execute_reply": "2022-02-10T20:59:02.128081Z",
     "shell.execute_reply.started": "2022-02-10T20:59:02.128050Z"
    },
    "id": "Dk9QItVfVBhK"
   },
   "outputs": [
    {
     "name": "stdout",
     "output_type": "stream",
     "text": [
      "The auc: 0.7273699488197999\n"
     ]
    }
   ],
   "source": [
    "Xtrain6, Xtest6, ytrain6, ytest6 = train_test_split(Data1_num,Data1_y,test_size=0.3,random_state=0)\n",
    "\n",
    "#Fit the model\n",
    "fm2 = model1.fit(Xtrain6,ytrain6)\n",
    "#Calculate the predictions on the Test data\n",
    "ypre6 = fm2.predict_proba(Xtest6)[:,1]\n",
    "# Report AUC\n",
    "auc_model6 = roc_auc_score(ytest6,ypre6)\n",
    "print(f'The auc:',auc_model6)\n",
    "# 1 pt"
   ]
  },
  {
   "cell_type": "code",
   "execution_count": 570,
   "metadata": {
    "execution": {
     "iopub.status.busy": "2022-02-10T20:59:02.129396Z",
     "iopub.status.idle": "2022-02-10T20:59:02.129836Z",
     "shell.execute_reply": "2022-02-10T20:59:02.129619Z",
     "shell.execute_reply.started": "2022-02-10T20:59:02.129596Z"
    },
    "id": "DbcA-gI_VBhL"
   },
   "outputs": [],
   "source": [
    "boostraps_num = 1200\n",
    "boostraps_auc =[]\n",
    "n = len(Data1_num)\n",
    "\n",
    "np.random.RandomState(3)\n",
    "for i in range(boostraps_num):\n",
    "    index = np.random.choice(Data1_num.index,n,replace = True)\n",
    "    Xtrain6, Xtest6, ytrain6, ytest6 = train_test_split(Data1_num[Data1_num.index.isin(index)],Data1_y[Data1_y.index.isin(index)],test_size=0.3,random_state=0)\n",
    "    fm2 = model1.fit(Xtrain6,ytrain6)\n",
    "    ypre6 = fm2.predict_proba(Xtest6)[:,1]\n",
    "    score = roc_auc_score(ytest6,ypre6)\n",
    "    boostraps_auc.insert(0,score)\n",
    "# 5pts"
   ]
  },
  {
   "cell_type": "code",
   "execution_count": 571,
   "metadata": {
    "execution": {
     "iopub.status.busy": "2022-02-10T20:59:02.131327Z",
     "iopub.status.idle": "2022-02-10T20:59:02.131783Z",
     "shell.execute_reply": "2022-02-10T20:59:02.131562Z",
     "shell.execute_reply.started": "2022-02-10T20:59:02.131538Z"
    },
    "id": "GrH1BeQ8VBhL"
   },
   "outputs": [
    {
     "data": {
      "image/png": "[encoded data removed]",
      "text/plain": [
       "<Figure size 432x288 with 1 Axes>"
      ]
     },
     "metadata": {},
     "output_type": "display_data"
    }
   ],
   "source": [
    "# Histogram of the boostrapped AUC scores\n",
    "plt.hist(boostraps_auc, color='purple', rwidth=0.7)\n",
    "plt.xlabel(' AUC value')\n",
    "plt.ylabel('number of result')\n",
    "plt.title('boostrap auc histogram')\n",
    "plt.show()\n",
    "# 3 pts"
   ]
  },
  {
   "cell_type": "code",
   "execution_count": 572,
   "metadata": {
    "execution": {
     "iopub.status.busy": "2022-02-10T20:59:02.133348Z",
     "iopub.status.idle": "2022-02-10T20:59:02.133787Z",
     "shell.execute_reply": "2022-02-10T20:59:02.133571Z",
     "shell.execute_reply.started": "2022-02-10T20:59:02.133546Z"
    },
    "id": "wzAzxy2sVBhM"
   },
   "outputs": [
    {
     "name": "stdout",
     "output_type": "stream",
     "text": [
      "The CI for the AUC of the model is: (0.9032292392011303, 0.9342542911863463)\n"
     ]
    }
   ],
   "source": [
    "# Sort the samples\n",
    "boostraps_auc.sort()\n",
    "\n",
    "# Calculating the limits, this is the 0.025 and 0.975 percentiles of the Boostrap distribution \n",
    "diff = boostraps_auc - auc_model6\n",
    "ci_min = auc_model6-np.percentile(diff,0.975)\n",
    "ci_max = auc_model6-np.percentile(diff,0.025)\n",
    "# \n",
    "print(f'The CI for the AUC of the model is: {(ci_min,ci_max) }')\n",
    "# 5 pts"
   ]
  },
  {
   "cell_type": "markdown",
   "metadata": {
    "id": "wl6vCKuHVBhM"
   },
   "source": [
    "Is the test AUC close to the AUC cross validation of the model you chose? Why do you think this is the case? Answer below as if you were talking to the hiring manager."
   ]
  },
  {
   "cell_type": "markdown",
   "metadata": {
    "id": "q0jw_8NqVBhM"
   },
   "source": [
    "**ANSWER HERE:**[1pt] \\\n",
    "The test AUC is not really close to the AUC cross validation. Because cross validation is biased. Cross validation has larger variance. Whereas CV is used to determine models and boostrap is used more when the model is fixed.  \n",
    "\n"
   ]
  },
  {
   "cell_type": "markdown",
   "metadata": {
    "id": "oVVKFu3nVBhN"
   },
   "source": [
    "Nicely done! You expect the best from this interview !!!"
   ]
  }
 ],
 "metadata": {
  "kernelspec": {
   "display_name": "Python 3 (ipykernel)",
   "language": "python",
   "name": "python3"
  },
  "language_info": {
   "codemirror_mode": {
    "name": "ipython",
    "version": 3
   },
   "file_extension": ".py",
   "mimetype": "text/x-python",
   "name": "python",
   "nbconvert_exporter": "python",
   "pygments_lexer": "ipython3",
   "version": "3.9.7"
  }
 },
 "nbformat": 4,
 "nbformat_minor": 4
}
