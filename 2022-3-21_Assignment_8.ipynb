{
 "cells": [
  {
   "cell_type": "markdown",
   "metadata": {
    "id": "-yO029ffQWaI"
   },
   "source": [
    "# Grade: /100 pts\n",
    "# Assignment 8: Customer Segmentation with Clustering\n",
    "\n",
    "In this assignment, you will be solving a traditional problem in quantitative marketing: customer segmentation. Having a properly segmented database is extremely important to define marketing campaigns, as it allows companies to define value-centric actions targeted towards customers of different profiles. In this ocassion you are going to analyze customers of a supermarket chain *Fruver*.\n",
    "\n",
    "Assume you are the owner of a consulting company that is in charge of this project. In this assignment you are going to analyze 2 different strategies performed by your employees. At the end you are going to decide which one produces the best result in segmentating the customers.\n",
    "\n",
    "The information is provided in the document `data_customers.csv` which has the following columns:\n",
    "\n",
    "- **ID:** Customer identifier (it does not have prediction power).\n",
    "- **Education:** Education status of the customer.\n",
    "- **Income:** Customer's annual household income.\n",
    "- **Kidhome:** Number of children in customer's family.\n",
    "- **Teenhome:** Number of teenagers in customer's family.\n",
    "- **Recency:** Number of days since the last purchase in the supermarket.\n",
    "- **NumWebVisitsMonth:** Number of visits to the supermarket web page the last month.\n",
    "- **Complain:** If the customer has had claims.\n",
    "- **Living_Status**: If the customer lives alone or does not.\n",
    "- **Total_Promos_accept**: Number of total promotions accepted.\n",
    "- **Age**: Current customer's age.\n",
    "- **Total_Consumption**: Total amount spent in the supermarket.\n",
    "- **Total_Num_Purchases**: Total Number of purchases.\n",
    "- **Seniority**: Number of months in which the client has been enrolled with the supermarket.\n",
    "\n",
    "### Follow These Steps before submitting\n",
    "Once you are finished, ensure to complete the following steps.\n",
    "\n",
    "1.  Restart your kernel by clicking 'Kernel' > 'Restart & Run All'.\n",
    "\n",
    "2.  Fix any errors which result from this.\n",
    "\n",
    "3.  Repeat steps 1. and 2. until your notebook runs without errors.\n",
    "\n",
    "4.  Submit your completed notebook to OWL by the deadline. \n",
    "\n",
    "5.  Your submission document should be saved in the form: `LastName_FirstName_Assignment5.ipynb`\n"
   ]
  },
  {
   "cell_type": "code",
   "execution_count": 1,
   "metadata": {
    "id": "ZE_aMV94F6bZ"
   },
   "outputs": [],
   "source": [
    "# pip install yellowbrick"
   ]
  },
  {
   "cell_type": "code",
   "execution_count": 2,
   "metadata": {
    "id": "GCyJlnOeQWao"
   },
   "outputs": [],
   "source": [
    "import numpy as np\n",
    "import pandas as pd\n",
    "import matplotlib.pyplot as plt\n",
    "from sklearn.cluster import AgglomerativeClustering, KMeans\n",
    "from yellowbrick.cluster import KElbowVisualizer, SilhouetteVisualizer\n",
    "#from yellowbrick.cluster.elbow import kelbow_visualizer\n",
    "from sklearn.preprocessing import StandardScaler\n",
    "from sklearn.metrics import silhouette_samples, silhouette_score\n",
    "import matplotlib.cm as cm\n",
    "from sklearn.decomposition import PCA\n",
    "import datetime\n",
    "import seaborn as sns\n",
    "import itertools\n",
    "%matplotlib inline"
   ]
  },
  {
   "cell_type": "markdown",
   "metadata": {
    "id": "-_T0o7l0QWav"
   },
   "source": [
    "## Question 1 Loading the data and Preprocessing (5 pts)\n"
   ]
  },
  {
   "cell_type": "markdown",
   "metadata": {
    "id": "u2EPpGR0F6bi"
   },
   "source": [
    "1. Import the data and select only the customers with ages lower than 100 years. Report the new data shape. Is there any null value?\n",
    "2. Your employees took these numeric predictors: `Income`, `Recency`, `NumWebVisitsMonth`, `Age`, `Total_Consumption`, `Total_Num_Purchases`, and `Seniority`. Therefore create the data frame `data_customers_num` that only contains these variables. Print the shape of this new data frame. Notice your employees used neither `Kidhome` nor `Teenhome` since their range is {0, 1, 2}, therefore it is better to take those as categorical variables.\n",
    "3. Present the descriptive statistics of the numeric variables. What can you say about the variables you have? Why should you normalize the data? Normalize the data and create the new data frame `df_num_z`. (Do not forget to include the names of its columns as the columns of `data_customers_num`)."
   ]
  },
  {
   "cell_type": "code",
   "execution_count": 3,
   "metadata": {
    "id": "jZlwYg5eQWaz"
   },
   "outputs": [
    {
     "name": "stdout",
     "output_type": "stream",
     "text": [
      "The new data shape is:(2205, 14)\n",
      "The number of null values is :0\n"
     ]
    }
   ],
   "source": [
    "# 1pt\n",
    "# Read the data\n",
    "data_customers = pd.read_csv('data_customers.csv')\n",
    "# New data\n",
    "data_customers_sample = data_customers[data_customers['Age']<100]\n",
    "print(f'The new data shape is:{data_customers_sample.shape}')\n",
    "print(f'The number of null values is :{data_customers_sample.isna().sum(axis=0).sum()}')"
   ]
  },
  {
   "cell_type": "code",
   "execution_count": 4,
   "metadata": {
    "id": "pfL48KIJF6bl"
   },
   "outputs": [
    {
     "name": "stdout",
     "output_type": "stream",
     "text": [
      "The new shape is (2205, 7)\n"
     ]
    }
   ],
   "source": [
    "# 1pt\n",
    "# numeric predictors\n",
    "data_customers_num = data_customers_sample[['Income', 'Recency', 'NumWebVisitsMonth', 'Age', 'Total_Consumption', 'Total_Num_Purchases', 'Seniority']]\n",
    "print(f'The new shape is {data_customers_num.shape}')"
   ]
  },
  {
   "cell_type": "code",
   "execution_count": 5,
   "metadata": {
    "id": "XLNcUhf5F6bn"
   },
   "outputs": [
    {
     "data": {
      "text/html": [
       "<div>\n",
       "<style scoped>\n",
       "    .dataframe tbody tr th:only-of-type {\n",
       "        vertical-align: middle;\n",
       "    }\n",
       "\n",
       "    .dataframe tbody tr th {\n",
       "        vertical-align: top;\n",
       "    }\n",
       "\n",
       "    .dataframe thead th {\n",
       "        text-align: right;\n",
       "    }\n",
       "</style>\n",
       "<table border=\"1\" class=\"dataframe\">\n",
       "  <thead>\n",
       "    <tr style=\"text-align: right;\">\n",
       "      <th></th>\n",
       "      <th>Income</th>\n",
       "      <th>Recency</th>\n",
       "      <th>NumWebVisitsMonth</th>\n",
       "      <th>Age</th>\n",
       "      <th>Total_Consumption</th>\n",
       "      <th>Total_Num_Purchases</th>\n",
       "      <th>Seniority</th>\n",
       "    </tr>\n",
       "  </thead>\n",
       "  <tbody>\n",
       "    <tr>\n",
       "      <th>count</th>\n",
       "      <td>2205.000000</td>\n",
       "      <td>2205.000000</td>\n",
       "      <td>2205.000000</td>\n",
       "      <td>2205.000000</td>\n",
       "      <td>2205.000000</td>\n",
       "      <td>2205.000000</td>\n",
       "      <td>2205.000000</td>\n",
       "    </tr>\n",
       "    <tr>\n",
       "      <th>mean</th>\n",
       "      <td>51622.094785</td>\n",
       "      <td>49.009070</td>\n",
       "      <td>5.336961</td>\n",
       "      <td>45.095692</td>\n",
       "      <td>606.821769</td>\n",
       "      <td>14.887982</td>\n",
       "      <td>18.143764</td>\n",
       "    </tr>\n",
       "    <tr>\n",
       "      <th>std</th>\n",
       "      <td>20713.063826</td>\n",
       "      <td>28.932111</td>\n",
       "      <td>2.413535</td>\n",
       "      <td>11.705801</td>\n",
       "      <td>601.675284</td>\n",
       "      <td>7.615277</td>\n",
       "      <td>7.670134</td>\n",
       "    </tr>\n",
       "    <tr>\n",
       "      <th>min</th>\n",
       "      <td>1730.000000</td>\n",
       "      <td>0.000000</td>\n",
       "      <td>0.000000</td>\n",
       "      <td>18.000000</td>\n",
       "      <td>5.000000</td>\n",
       "      <td>0.000000</td>\n",
       "      <td>1.000000</td>\n",
       "    </tr>\n",
       "    <tr>\n",
       "      <th>25%</th>\n",
       "      <td>35196.000000</td>\n",
       "      <td>24.000000</td>\n",
       "      <td>3.000000</td>\n",
       "      <td>37.000000</td>\n",
       "      <td>69.000000</td>\n",
       "      <td>8.000000</td>\n",
       "      <td>13.000000</td>\n",
       "    </tr>\n",
       "    <tr>\n",
       "      <th>50%</th>\n",
       "      <td>51287.000000</td>\n",
       "      <td>49.000000</td>\n",
       "      <td>6.000000</td>\n",
       "      <td>44.000000</td>\n",
       "      <td>397.000000</td>\n",
       "      <td>15.000000</td>\n",
       "      <td>18.000000</td>\n",
       "    </tr>\n",
       "    <tr>\n",
       "      <th>75%</th>\n",
       "      <td>68281.000000</td>\n",
       "      <td>74.000000</td>\n",
       "      <td>7.000000</td>\n",
       "      <td>55.000000</td>\n",
       "      <td>1047.000000</td>\n",
       "      <td>21.000000</td>\n",
       "      <td>24.000000</td>\n",
       "    </tr>\n",
       "    <tr>\n",
       "      <th>max</th>\n",
       "      <td>113734.000000</td>\n",
       "      <td>99.000000</td>\n",
       "      <td>20.000000</td>\n",
       "      <td>74.000000</td>\n",
       "      <td>2525.000000</td>\n",
       "      <td>43.000000</td>\n",
       "      <td>36.000000</td>\n",
       "    </tr>\n",
       "  </tbody>\n",
       "</table>\n",
       "</div>"
      ],
      "text/plain": [
       "              Income      Recency  NumWebVisitsMonth          Age  \\\n",
       "count    2205.000000  2205.000000        2205.000000  2205.000000   \n",
       "mean    51622.094785    49.009070           5.336961    45.095692   \n",
       "std     20713.063826    28.932111           2.413535    11.705801   \n",
       "min      1730.000000     0.000000           0.000000    18.000000   \n",
       "25%     35196.000000    24.000000           3.000000    37.000000   \n",
       "50%     51287.000000    49.000000           6.000000    44.000000   \n",
       "75%     68281.000000    74.000000           7.000000    55.000000   \n",
       "max    113734.000000    99.000000          20.000000    74.000000   \n",
       "\n",
       "       Total_Consumption  Total_Num_Purchases    Seniority  \n",
       "count        2205.000000          2205.000000  2205.000000  \n",
       "mean          606.821769            14.887982    18.143764  \n",
       "std           601.675284             7.615277     7.670134  \n",
       "min             5.000000             0.000000     1.000000  \n",
       "25%            69.000000             8.000000    13.000000  \n",
       "50%           397.000000            15.000000    18.000000  \n",
       "75%          1047.000000            21.000000    24.000000  \n",
       "max          2525.000000            43.000000    36.000000  "
      ]
     },
     "execution_count": 5,
     "metadata": {},
     "output_type": "execute_result"
    }
   ],
   "source": [
    "# 0.5 pts\n",
    "# Descriptive statistics\n",
    "data_customers_num.describe()"
   ]
  },
  {
   "cell_type": "code",
   "execution_count": 6,
   "metadata": {
    "id": "EbUNRHJCF6bo"
   },
   "outputs": [],
   "source": [
    "# 1 pt\n",
    "# Standardization\n",
    "normalizer = StandardScaler()\n",
    "df_num_z = pd.DataFrame(normalizer.fit_transform(data_customers_num), columns=data_customers_num.columns)"
   ]
  },
  {
   "cell_type": "code",
   "execution_count": 7,
   "metadata": {
    "id": "YSBmLUQlF6bq"
   },
   "outputs": [
    {
     "data": {
      "text/html": [
       "<div>\n",
       "<style scoped>\n",
       "    .dataframe tbody tr th:only-of-type {\n",
       "        vertical-align: middle;\n",
       "    }\n",
       "\n",
       "    .dataframe tbody tr th {\n",
       "        vertical-align: top;\n",
       "    }\n",
       "\n",
       "    .dataframe thead th {\n",
       "        text-align: right;\n",
       "    }\n",
       "</style>\n",
       "<table border=\"1\" class=\"dataframe\">\n",
       "  <thead>\n",
       "    <tr style=\"text-align: right;\">\n",
       "      <th></th>\n",
       "      <th>Income</th>\n",
       "      <th>Recency</th>\n",
       "      <th>NumWebVisitsMonth</th>\n",
       "      <th>Age</th>\n",
       "      <th>Total_Consumption</th>\n",
       "      <th>Total_Num_Purchases</th>\n",
       "      <th>Seniority</th>\n",
       "    </tr>\n",
       "  </thead>\n",
       "  <tbody>\n",
       "    <tr>\n",
       "      <th>count</th>\n",
       "      <td>2.205000e+03</td>\n",
       "      <td>2.205000e+03</td>\n",
       "      <td>2.205000e+03</td>\n",
       "      <td>2.205000e+03</td>\n",
       "      <td>2.205000e+03</td>\n",
       "      <td>2.205000e+03</td>\n",
       "      <td>2.205000e+03</td>\n",
       "    </tr>\n",
       "    <tr>\n",
       "      <th>mean</th>\n",
       "      <td>2.255691e-17</td>\n",
       "      <td>7.975480e-17</td>\n",
       "      <td>3.544658e-17</td>\n",
       "      <td>1.643432e-16</td>\n",
       "      <td>9.667248e-18</td>\n",
       "      <td>2.255691e-17</td>\n",
       "      <td>1.450087e-17</td>\n",
       "    </tr>\n",
       "    <tr>\n",
       "      <th>std</th>\n",
       "      <td>1.000227e+00</td>\n",
       "      <td>1.000227e+00</td>\n",
       "      <td>1.000227e+00</td>\n",
       "      <td>1.000227e+00</td>\n",
       "      <td>1.000227e+00</td>\n",
       "      <td>1.000227e+00</td>\n",
       "      <td>1.000227e+00</td>\n",
       "    </tr>\n",
       "    <tr>\n",
       "      <th>min</th>\n",
       "      <td>-2.409272e+00</td>\n",
       "      <td>-1.694318e+00</td>\n",
       "      <td>-2.211765e+00</td>\n",
       "      <td>-2.315248e+00</td>\n",
       "      <td>-1.000470e+00</td>\n",
       "      <td>-1.955459e+00</td>\n",
       "      <td>-2.235639e+00</td>\n",
       "    </tr>\n",
       "    <tr>\n",
       "      <th>25%</th>\n",
       "      <td>-7.932106e-01</td>\n",
       "      <td>-8.646014e-01</td>\n",
       "      <td>-9.684928e-01</td>\n",
       "      <td>-6.917534e-01</td>\n",
       "      <td>-8.940766e-01</td>\n",
       "      <td>-9.047005e-01</td>\n",
       "      <td>-6.707746e-01</td>\n",
       "    </tr>\n",
       "    <tr>\n",
       "      <th>50%</th>\n",
       "      <td>-1.618161e-02</td>\n",
       "      <td>-3.135738e-04</td>\n",
       "      <td>2.747790e-01</td>\n",
       "      <td>-9.362368e-02</td>\n",
       "      <td>-3.488084e-01</td>\n",
       "      <td>1.471300e-02</td>\n",
       "      <td>-1.874762e-02</td>\n",
       "    </tr>\n",
       "    <tr>\n",
       "      <th>75%</th>\n",
       "      <td>8.044529e-01</td>\n",
       "      <td>8.639742e-01</td>\n",
       "      <td>6.892030e-01</td>\n",
       "      <td>8.462945e-01</td>\n",
       "      <td>7.317536e-01</td>\n",
       "      <td>8.027817e-01</td>\n",
       "      <td>7.636847e-01</td>\n",
       "    </tr>\n",
       "    <tr>\n",
       "      <th>max</th>\n",
       "      <td>2.999363e+00</td>\n",
       "      <td>1.728262e+00</td>\n",
       "      <td>6.076714e+00</td>\n",
       "      <td>2.469790e+00</td>\n",
       "      <td>3.188785e+00</td>\n",
       "      <td>3.692367e+00</td>\n",
       "      <td>2.328549e+00</td>\n",
       "    </tr>\n",
       "  </tbody>\n",
       "</table>\n",
       "</div>"
      ],
      "text/plain": [
       "             Income       Recency  NumWebVisitsMonth           Age  \\\n",
       "count  2.205000e+03  2.205000e+03       2.205000e+03  2.205000e+03   \n",
       "mean   2.255691e-17  7.975480e-17       3.544658e-17  1.643432e-16   \n",
       "std    1.000227e+00  1.000227e+00       1.000227e+00  1.000227e+00   \n",
       "min   -2.409272e+00 -1.694318e+00      -2.211765e+00 -2.315248e+00   \n",
       "25%   -7.932106e-01 -8.646014e-01      -9.684928e-01 -6.917534e-01   \n",
       "50%   -1.618161e-02 -3.135738e-04       2.747790e-01 -9.362368e-02   \n",
       "75%    8.044529e-01  8.639742e-01       6.892030e-01  8.462945e-01   \n",
       "max    2.999363e+00  1.728262e+00       6.076714e+00  2.469790e+00   \n",
       "\n",
       "       Total_Consumption  Total_Num_Purchases     Seniority  \n",
       "count       2.205000e+03         2.205000e+03  2.205000e+03  \n",
       "mean        9.667248e-18         2.255691e-17  1.450087e-17  \n",
       "std         1.000227e+00         1.000227e+00  1.000227e+00  \n",
       "min        -1.000470e+00        -1.955459e+00 -2.235639e+00  \n",
       "25%        -8.940766e-01        -9.047005e-01 -6.707746e-01  \n",
       "50%        -3.488084e-01         1.471300e-02 -1.874762e-02  \n",
       "75%         7.317536e-01         8.027817e-01  7.636847e-01  \n",
       "max         3.188785e+00         3.692367e+00  2.328549e+00  "
      ]
     },
     "execution_count": 7,
     "metadata": {},
     "output_type": "execute_result"
    }
   ],
   "source": [
    "# 0.5 pts\n",
    "# Descriptive statistics for normalized data\n",
    "df_num_z.describe()"
   ]
  },
  {
   "cell_type": "markdown",
   "metadata": {
    "id": "iYBNgtVjF6br"
   },
   "source": [
    "**Written Answer:** Why should you normalize the data?"
   ]
  },
  {
   "cell_type": "markdown",
   "metadata": {
    "id": "7MuGpZXEQWa7"
   },
   "source": [
    "**ANSWER HERE (1 pt)**: The data is nomalized, especially the income and total_comsumption has very large variance. If the data is not normalized, the clustering method will be dominated by the variables with the highest magnitude. This is not correct."
   ]
  },
  {
   "cell_type": "markdown",
   "metadata": {
    "id": "mlarWXCVF6bv"
   },
   "source": [
    "____________"
   ]
  },
  {
   "cell_type": "markdown",
   "metadata": {
    "id": "NQ2QjoUuF6bw"
   },
   "source": [
    "### Question 2: First Strategy (25 pts)\n",
    "\n",
    "To solve the project, your employee D decided to use the following strategy: \n",
    "\n",
    "1. First performing dimension reduction with PCA using 2 components. Look for the best number of clusters (between 3 to 5) using `Hierarchical clustering` with `affinity = 'cosine'` and `linkage = 'complete'` and Silhuoette analysis.\n",
    "2. Graph the scatter plot of the PCA-transformed data differentiated by cluster.\n",
    "3. Make the scatterplot `Total_Consumption` vs `Income by clusters`."
   ]
  },
  {
   "cell_type": "code",
   "execution_count": 8,
   "metadata": {
    "id": "oLFsNi4aF6bx"
   },
   "outputs": [],
   "source": [
    "# 5 pts (PCA)\n",
    "pca = PCA(n_components=2)\n",
    "pca_data = pca.fit_transform(df_num_z)"
   ]
  },
  {
   "cell_type": "code",
   "execution_count": 9,
   "metadata": {
    "id": "GXj4KPgfF6by"
   },
   "outputs": [
    {
     "name": "stdout",
     "output_type": "stream",
     "text": [
      "For 3 clusters, the silhuoette score is 0.346086259157868\n",
      "For 4 clusters, the silhuoette score is 0.2873768083484753\n",
      "For 5 clusters, the silhuoette score is 0.2958156431791859\n"
     ]
    }
   ],
   "source": [
    "# 8 pts \n",
    "# Silhuoette Analysis\n",
    "# Range for the number of clusters\n",
    "range_n_clusters = [3,4,5]\n",
    "for n in range_n_clusters:\n",
    "    clusters = AgglomerativeClustering(n_clusters=n , affinity='cosine', linkage='complete')\n",
    "    cluster_fit = clusters.fit_predict(pca_data)\n",
    "    silouoette = silhouette_score(pca_data, cluster_fit)\n",
    "    print(f'For {n} clusters, the silhuoette score is {silouoette}')\n",
    "    "
   ]
  },
  {
   "cell_type": "markdown",
   "metadata": {
    "id": "v6siWQ7IF6bz"
   },
   "source": [
    "**Written Answer:** How many clusters did D select based on the previous results?"
   ]
  },
  {
   "cell_type": "markdown",
   "metadata": {
    "id": "2cboyjrIF6b0"
   },
   "source": [
    "**ANSWER HERE (2pts):** Based on the result, we should select 3 clusters since it has the largest silhouette score."
   ]
  },
  {
   "cell_type": "code",
   "execution_count": 10,
   "metadata": {
    "id": "p7dT7IAVF6b1"
   },
   "outputs": [
    {
     "data": {
      "text/plain": [
       "<matplotlib.legend.Legend at 0x20931eb1640>"
      ]
     },
     "execution_count": 10,
     "metadata": {},
     "output_type": "execute_result"
    },
    {
     "data": {
      "image/png": "[encoded data removed]",
      "text/plain": [
       "<Figure size 432x288 with 1 Axes>"
      ]
     },
     "metadata": {
      "needs_background": "light"
     },
     "output_type": "display_data"
    }
   ],
   "source": [
    "# 5 pts second point\n",
    "for i in range(3):\n",
    "    color = cm.nipy_spectral(float(i) / 3)\n",
    "    plt.scatter(pca_data[cluster_fit==i, 0], pca_data[cluster_fit==i, 1], \n",
    "                label='Cluster %i' % (i+1))\n",
    "\n",
    "plt.xlabel('Component 1')\n",
    "plt.ylabel('Component 2')\n",
    "plt.title('PCA-transformed plot for %i clusters' % 3)\n",
    "plt.legend()"
   ]
  },
  {
   "cell_type": "code",
   "execution_count": 11,
   "metadata": {
    "id": "2Jovk5A-F6b2",
    "scrolled": true
   },
   "outputs": [
    {
     "data": {
      "text/plain": [
       "<matplotlib.legend.Legend at 0x20931f51a30>"
      ]
     },
     "execution_count": 11,
     "metadata": {},
     "output_type": "execute_result"
    },
    {
     "data": {
      "image/png": "[encoded data removed]",
      "text/plain": [
       "<Figure size 432x288 with 1 Axes>"
      ]
     },
     "metadata": {
      "needs_background": "light"
     },
     "output_type": "display_data"
    }
   ],
   "source": [
    "# 5 pts\n",
    "# Scatterplot\n",
    "y = df_num_z['Total_Consumption']\n",
    "x = df_num_z['Income']\n",
    "for i in range(3):\n",
    "    color = cm.nipy_spectral(float(i) / 3)\n",
    "    plt.scatter(x[cluster_fit==i], y[cluster_fit==i], \n",
    "                label='Cluster %i' % (i+1))\n",
    "\n",
    "plt.xlabel('Component 1')\n",
    "plt.ylabel('Component 2')\n",
    "plt.title('PCA-transformed plot for %i clusters' % 3)\n",
    "plt.legend()"
   ]
  },
  {
   "cell_type": "markdown",
   "metadata": {
    "id": "NxyimKreF6b3"
   },
   "source": [
    "## Question 3: Second Strategy (55 pts)"
   ]
  },
  {
   "cell_type": "markdown",
   "metadata": {
    "id": "UQOMjdveF6b3"
   },
   "source": [
    "### 3.1 (30 pts)\n",
    "\n",
    "Employee J selected a different approach:\n",
    "1. First J studied the silhouette average score taking into account only the sample of three predictors from the seven total ones, and selecting the combination with the maximum value.\n",
    "\n",
    "You are going to replicate these results, generating a data frame `Results_df` whose columns are `Subset_Predictors`, `AVG_S_3`, `AVG_S_4`, `AVG_S_5`, where:\n",
    "- `Subset_Predictors` are the three predictors that have been taken into consideration, eg: `[Age, Income, Total_Consumption]`.\n",
    "- `AVG_S_i` is the average silhouette_score using $k = i$ clusters, when performing KMeans method over the `Subset_Predictors` variables.\n",
    "\n",
    "P did not forget that as a team, you always use a `random_state = 3`, also J remembered `itertools.combinations` function may be useful."
   ]
  },
  {
   "cell_type": "code",
   "execution_count": 12,
   "metadata": {
    "id": "ntUCJPg0F6b4"
   },
   "outputs": [],
   "source": [
    "# 9 pts \n",
    "# Generate the data frame of results\n",
    "# Initialize the DataFrame and set the name of its columns\n",
    "range_n_clusters = [3,4,5]\n",
    "possibilities = list(itertools.combinations(df_num_z.columns,3))\n",
    "np = len(possibilities)\n",
    "Result_df = pd.DataFrame(dtype=object)\n",
    "def convertTuple(tuple):\n",
    "    str = ''\n",
    "    for item in tuple:\n",
    "        str = str + item + \" \"\n",
    "        return str\n",
    "for i in range(np):\n",
    "    d1 = pd.DataFrame(df_num_z[possibilities[i][0]])\n",
    "    d2 = pd.DataFrame(df_num_z[possibilities[i][1]])\n",
    "    d3 = pd.DataFrame(df_num_z[possibilities[i][2]])\n",
    "    Subset_Predictors = possibilities[i]\n",
    "    Subset_Predictors_data = pd.concat([d1,d2,d3],axis=1)\n",
    "    clusterer3 = KMeans(n_clusters=3, random_state=3)\n",
    "    clusterer4 = KMeans(n_clusters=4, random_state=3)\n",
    "    clusterer5 = KMeans(n_clusters=5, random_state=3)\n",
    "    cluster_labels3 = clusterer3.fit_predict(Subset_Predictors_data)\n",
    "    cluster_labels4 = clusterer4.fit_predict(Subset_Predictors_data)\n",
    "    cluster_labels5 = clusterer5.fit_predict(Subset_Predictors_data)\n",
    "    silhouette_avg3 = silhouette_score(Subset_Predictors_data, cluster_labels3)\n",
    "    silhouette_avg4 = silhouette_score(Subset_Predictors_data, cluster_labels4)\n",
    "    silhouette_avg5 = silhouette_score(Subset_Predictors_data, cluster_labels5)\n",
    "    predict_str = ','.join(Subset_Predictors)\n",
    "    toadd = pd.DataFrame({'Subset_Predictors':predict_str, 'AVG_S_3': silhouette_avg3, 'AVG_S_4':silhouette_avg4, 'AVG_S_5': silhouette_avg5},index=[i])\n",
    "    Result_df = pd.concat([Result_df,toadd],ignore_index=True, axis = 0)\n",
    "\n",
    "#Fill the Result_df according indications\n",
    "\n"
   ]
  },
  {
   "cell_type": "code",
   "execution_count": 13,
   "metadata": {
    "id": "v3ICuXDLF6b4"
   },
   "outputs": [
    {
     "data": {
      "text/html": [
       "<div>\n",
       "<style scoped>\n",
       "    .dataframe tbody tr th:only-of-type {\n",
       "        vertical-align: middle;\n",
       "    }\n",
       "\n",
       "    .dataframe tbody tr th {\n",
       "        vertical-align: top;\n",
       "    }\n",
       "\n",
       "    .dataframe thead th {\n",
       "        text-align: right;\n",
       "    }\n",
       "</style>\n",
       "<table border=\"1\" class=\"dataframe\">\n",
       "  <thead>\n",
       "    <tr style=\"text-align: right;\">\n",
       "      <th></th>\n",
       "      <th>Subset_Predictors</th>\n",
       "      <th>AVG_S_3</th>\n",
       "      <th>AVG_S_4</th>\n",
       "      <th>AVG_S_5</th>\n",
       "    </tr>\n",
       "  </thead>\n",
       "  <tbody>\n",
       "    <tr>\n",
       "      <th>0</th>\n",
       "      <td>Income,Recency,NumWebVisitsMonth</td>\n",
       "      <td>0.327811</td>\n",
       "      <td>0.315628</td>\n",
       "      <td>0.303211</td>\n",
       "    </tr>\n",
       "    <tr>\n",
       "      <th>1</th>\n",
       "      <td>Income,Recency,Age</td>\n",
       "      <td>0.262795</td>\n",
       "      <td>0.270539</td>\n",
       "      <td>0.282886</td>\n",
       "    </tr>\n",
       "    <tr>\n",
       "      <th>2</th>\n",
       "      <td>Income,Recency,Total_Consumption</td>\n",
       "      <td>0.372856</td>\n",
       "      <td>0.365725</td>\n",
       "      <td>0.350162</td>\n",
       "    </tr>\n",
       "    <tr>\n",
       "      <th>3</th>\n",
       "      <td>Income,Recency,Total_Num_Purchases</td>\n",
       "      <td>0.363048</td>\n",
       "      <td>0.354449</td>\n",
       "      <td>0.330624</td>\n",
       "    </tr>\n",
       "    <tr>\n",
       "      <th>4</th>\n",
       "      <td>Income,Recency,Seniority</td>\n",
       "      <td>0.234998</td>\n",
       "      <td>0.260839</td>\n",
       "      <td>0.254934</td>\n",
       "    </tr>\n",
       "  </tbody>\n",
       "</table>\n",
       "</div>"
      ],
      "text/plain": [
       "                    Subset_Predictors   AVG_S_3   AVG_S_4   AVG_S_5\n",
       "0    Income,Recency,NumWebVisitsMonth  0.327811  0.315628  0.303211\n",
       "1                  Income,Recency,Age  0.262795  0.270539  0.282886\n",
       "2    Income,Recency,Total_Consumption  0.372856  0.365725  0.350162\n",
       "3  Income,Recency,Total_Num_Purchases  0.363048  0.354449  0.330624\n",
       "4            Income,Recency,Seniority  0.234998  0.260839  0.254934"
      ]
     },
     "execution_count": 13,
     "metadata": {},
     "output_type": "execute_result"
    }
   ],
   "source": [
    "# 15 pts \n",
    "# Print the first 5 rows of the Result_df matrix\n",
    "Result_df.head()"
   ]
  },
  {
   "cell_type": "code",
   "execution_count": 14,
   "metadata": {
    "id": "rRA61hvNF6b5"
   },
   "outputs": [
    {
     "data": {
      "text/plain": [
       "(35, 4)"
      ]
     },
     "execution_count": 14,
     "metadata": {},
     "output_type": "execute_result"
    }
   ],
   "source": [
    "# 1 pt\n",
    "# Report the shape of Result_df DataFrame\n",
    "Result_df.shape"
   ]
  },
  {
   "cell_type": "code",
   "execution_count": 15,
   "metadata": {
    "id": "jTPSm-b2F6b6"
   },
   "outputs": [
    {
     "name": "stdout",
     "output_type": "stream",
     "text": [
      "The maximum average silhouette score using a subset of 3 predictors is :0.44859544430501574\n"
     ]
    }
   ],
   "source": [
    "# 2 pts\n",
    "# Find the maximum avg silhouette_score\n",
    "max_score = Result_df.max(numeric_only=True).max()\n",
    "print(f'The maximum average silhouette score using a subset of 3 predictors is :{max_score}')"
   ]
  },
  {
   "cell_type": "markdown",
   "metadata": {
    "id": "DjGrDab_F6b7"
   },
   "source": [
    "**Written Answer:** What is the subset of 3 predictors that generated the maximum average silhouette score? How many clusters did J decide to use?"
   ]
  },
  {
   "cell_type": "code",
   "execution_count": 16,
   "metadata": {
    "id": "0tQ6SrjJF6b7"
   },
   "outputs": [
    {
     "data": {
      "text/html": [
       "<div>\n",
       "<style scoped>\n",
       "    .dataframe tbody tr th:only-of-type {\n",
       "        vertical-align: middle;\n",
       "    }\n",
       "\n",
       "    .dataframe tbody tr th {\n",
       "        vertical-align: top;\n",
       "    }\n",
       "\n",
       "    .dataframe thead th {\n",
       "        text-align: right;\n",
       "    }\n",
       "</style>\n",
       "<table border=\"1\" class=\"dataframe\">\n",
       "  <thead>\n",
       "    <tr style=\"text-align: right;\">\n",
       "      <th></th>\n",
       "      <th>Subset_Predictors</th>\n",
       "      <th>AVG_S_3</th>\n",
       "      <th>AVG_S_4</th>\n",
       "      <th>AVG_S_5</th>\n",
       "    </tr>\n",
       "  </thead>\n",
       "  <tbody>\n",
       "    <tr>\n",
       "      <th>12</th>\n",
       "      <td>Income,Total_Consumption,Total_Num_Purchases</td>\n",
       "      <td>0.448595</td>\n",
       "      <td>0.398436</td>\n",
       "      <td>0.335564</td>\n",
       "    </tr>\n",
       "  </tbody>\n",
       "</table>\n",
       "</div>"
      ],
      "text/plain": [
       "                               Subset_Predictors   AVG_S_3   AVG_S_4   AVG_S_5\n",
       "12  Income,Total_Consumption,Total_Num_Purchases  0.448595  0.398436  0.335564"
      ]
     },
     "execution_count": 16,
     "metadata": {},
     "output_type": "execute_result"
    }
   ],
   "source": [
    "# 1 pt\n",
    "# Find the index when we find the maximum value\n",
    "Result_df.loc[(Result_df['AVG_S_3'] == Result_df.max(numeric_only=True).max())]"
   ]
  },
  {
   "cell_type": "markdown",
   "metadata": {
    "id": "9S0t0LypF6b8"
   },
   "source": [
    "**ANSWER HERE (2pts):** The maximum average silhouette score is 0.448595. The subset of 3 predictors are Income, total_Consumption and total_num_purchases. And J uses 3 clusters according to the highest socre. "
   ]
  },
  {
   "cell_type": "markdown",
   "metadata": {
    "id": "OPrJAigqF6b9"
   },
   "source": [
    "### 3.2 Verification (15 pts)\n",
    "\n",
    "J wants to verify this is indeed the best number of clusters. \n",
    "1. Create an elbow plot of between 3 and 10 clusters for the selected subset of variables, using `calinski_harabasz` metric. According with this metric what is the best number of clusters? What is the meaning of this metric?\n",
    "2. Secondly, perform the silhouette analysis for the same cluster range, using `SilhouetteVisualizer` function as it was shown in `LabWeek10` to generate the plot, do not forget to print the average Silhouette scores!. **Does the previous result agree with the given by silhouette analysis?**\n"
   ]
  },
  {
   "cell_type": "code",
   "execution_count": 17,
   "metadata": {
    "id": "dgoGgGd9F6b9"
   },
   "outputs": [
    {
     "data": {
      "image/png": "[encoded data removed]",
      "text/plain": [
       "<Figure size 432x288 with 2 Axes>"
      ]
     },
     "metadata": {},
     "output_type": "display_data"
    },
    {
     "data": {
      "text/plain": [
       "<AxesSubplot:title={'center':'Calinski Harabasz Score Elbow for KMeans Clustering'}, xlabel='k', ylabel='calinski harabasz score'>"
      ]
     },
     "execution_count": 17,
     "metadata": {},
     "output_type": "execute_result"
    }
   ],
   "source": [
    "# 5 pts\n",
    "# Code for creating the elbow plot\n",
    "KClusterer = KMeans(n_clusters=3, random_state=3)\n",
    "visualizer = KElbowVisualizer(KClusterer, \n",
    "                              k=(3,10),\n",
    "                              metric='calinski_harabasz',\n",
    "                             )   \n",
    "X = df_num_z[['Income','Total_Consumption','Total_Num_Purchases']]\n",
    "visualizer.fit(X)       \n",
    "visualizer.show()   "
   ]
  },
  {
   "cell_type": "markdown",
   "metadata": {
    "id": "ZZXcOcrKF6b-"
   },
   "source": [
    "**ANSWER HERE (3pts)**  \n",
    "According to this metric, the best number of clusters is 3. When using this metric, the clusters themselves very compact and are well-spaced from each other are good clusters."
   ]
  },
  {
   "cell_type": "code",
   "execution_count": 19,
   "metadata": {
    "id": "vZ63slRNF6b_"
   },
   "outputs": [
    {
     "name": "stderr",
     "output_type": "stream",
     "text": [
      "C:\\Users\\angel\\AppData\\Local\\Temp\\ipykernel_14640\\3721833194.py:6: SettingWithCopyWarning: \n",
      "A value is trying to be set on a copy of a slice from a DataFrame.\n",
      "Try using .loc[row_indexer,col_indexer] = value instead\n",
      "\n",
      "See the caveats in the documentation: https://pandas.pydata.org/pandas-docs/stable/user_guide/indexing.html#returning-a-view-versus-a-copy\n",
      "  X['cluster_label_scaled'] = KClusterer.fit_predict(X)\n",
      "C:\\Users\\angel\\anaconda3\\envs\\ds3000\\lib\\site-packages\\sklearn\\base.py:450: UserWarning: X does not have valid feature names, but KMeans was fitted with feature names\n",
      "  warnings.warn(\n"
     ]
    },
    {
     "name": "stdout",
     "output_type": "stream",
     "text": [
      "The silhouette score for K-means is 0.674\n"
     ]
    },
    {
     "data": {
      "image/png": "[encoded data removed]",
      "text/plain": [
       "<Figure size 432x288 with 1 Axes>"
      ]
     },
     "metadata": {
      "needs_background": "light"
     },
     "output_type": "display_data"
    },
    {
     "data": {
      "text/plain": [
       "<AxesSubplot:title={'center':'Silhouette Plot of KMeans Clustering for 2205 Samples in 9 Centers'}, xlabel='silhouette coefficient values', ylabel='cluster label'>"
      ]
     },
     "execution_count": 19,
     "metadata": {},
     "output_type": "execute_result"
    }
   ],
   "source": [
    "# 5 pts\n",
    "# Second point\n",
    "# Code for creating the silhouette analysis\n",
    "X.shape\n",
    "KClusterer.fit(X)\n",
    "X['cluster_label_scaled'] = KClusterer.fit_predict(X)\n",
    "\n",
    "kmeans_sil_avg = silhouette_score(X, X['cluster_label_scaled'])\n",
    "print('The silhouette score for K-means is %.3f' % kmeans_sil_avg)\n",
    "\n",
    "# We can plot a silhouette plot for k-means using yellowbricks\n",
    "visualizer = SilhouetteVisualizer(KClusterer) # Get the kmeans model\n",
    "visualizer.fit(X) # Pass the scaled data\n",
    "visualizer.show() # show the plot"
   ]
  },
  {
   "cell_type": "markdown",
   "metadata": {
    "id": "spWBRrsDF6cA"
   },
   "source": [
    "**ANSWER HERE (2pts):**  \n",
    "The previous result is a bit different than the silhouette analysis. "
   ]
  },
  {
   "cell_type": "markdown",
   "metadata": {
    "id": "K-T4d91uF6cA"
   },
   "source": [
    "### 3.3  PCA for clustering visualization (5 pts)"
   ]
  },
  {
   "cell_type": "markdown",
   "metadata": {
    "id": "zfBpnaeNF6cB"
   },
   "source": [
    "Considering the previous selection, J decided to visualize the results with PCA transformation. J applied PCA transformation using 2 components, created the scatterplot differentiating clusters with different colours. **Note the clusters still must be calculated over the unrotated data.**"
   ]
  },
  {
   "cell_type": "code",
   "execution_count": 20,
   "metadata": {
    "id": "71HKjCb9F6cB"
   },
   "outputs": [],
   "source": [
    "pca_trans = PCA(n_components=2)\n",
    "pca_data = pca_trans.fit_transform(X)"
   ]
  },
  {
   "cell_type": "markdown",
   "metadata": {
    "id": "1eAxpwu1F6cC"
   },
   "source": [
    "### 3.3 Scatterplot. (5 pts)\n",
    "\n",
    "At the end J also presented the scatterplot of `Total_Consumption` vs `Income` differentiated by cluster."
   ]
  },
  {
   "cell_type": "code",
   "execution_count": 21,
   "metadata": {
    "id": "FEZ_8wEcF6cC"
   },
   "outputs": [
    {
     "data": {
      "text/plain": [
       "<matplotlib.legend.Legend at 0x209449c4e20>"
      ]
     },
     "execution_count": 21,
     "metadata": {},
     "output_type": "execute_result"
    },
    {
     "data": {
      "image/png": "[encoded data removed]",
      "text/plain": [
       "<Figure size 432x288 with 1 Axes>"
      ]
     },
     "metadata": {
      "needs_background": "light"
     },
     "output_type": "display_data"
    }
   ],
   "source": [
    "#ceate the scatterplot differentiating clusters with different colours\n",
    "for i in range(3):\n",
    "    color = cm.nipy_spectral(float(i) / 3)\n",
    "    plt.scatter(pca_data[cluster_fit==i, 0], pca_data[cluster_fit==i, 1], \n",
    "                label='Cluster %i' % (i+1))\n",
    "\n",
    "plt.xlabel('Component 1')\n",
    "plt.ylabel('Component 2')\n",
    "plt.title('PCA-transformed plot for %i clusters' % 3)\n",
    "plt.legend()"
   ]
  },
  {
   "cell_type": "code",
   "execution_count": 22,
   "metadata": {
    "id": "gLPlfca0F6cD"
   },
   "outputs": [
    {
     "data": {
      "text/plain": [
       "<matplotlib.legend.Legend at 0x209449827c0>"
      ]
     },
     "execution_count": 22,
     "metadata": {},
     "output_type": "execute_result"
    },
    {
     "data": {
      "image/png": "[encoded data removed]",
      "text/plain": [
       "<Figure size 432x288 with 1 Axes>"
      ]
     },
     "metadata": {
      "needs_background": "light"
     },
     "output_type": "display_data"
    }
   ],
   "source": [
    "#the scatterplot of Total_Consumption vs Income differentiated by cluster.\n",
    "y = X['Total_Consumption']\n",
    "x = X['Income']\n",
    "for i in range(3):\n",
    "    color = cm.nipy_spectral(float(i) / 3)\n",
    "    plt.scatter(x[cluster_fit==i], y[cluster_fit==i], \n",
    "                label='Cluster %i' % (i+1))\n",
    "\n",
    "plt.xlabel('Component 1')\n",
    "plt.ylabel('Component 2')\n",
    "plt.title('PCA-transformed plot for %i clusters' % 3)\n",
    "plt.legend()"
   ]
  },
  {
   "cell_type": "markdown",
   "metadata": {
    "id": "ZxYWZ9V_F6cD"
   },
   "source": [
    "_________"
   ]
  },
  {
   "cell_type": "markdown",
   "metadata": {
    "id": "dSCbg6ZgF6cE"
   },
   "source": [
    "## Question 5: Deploying the model (15 pts)"
   ]
  },
  {
   "cell_type": "markdown",
   "metadata": {
    "id": "LRHe2H_aF6cE"
   },
   "source": [
    "### 5.1 Final Decision\n",
    "\n",
    "**Written Answer:** Now you have to decide which method to use for customer segmentation. Decide on one of the two strategies and explain, in no more than one paragraph, what strategy would you choose."
   ]
  },
  {
   "cell_type": "markdown",
   "metadata": {
    "id": "wYjraYj8F6cF"
   },
   "source": [
    "**ANSWER HERE (4 pts):** \n",
    "I decide to use the method that J uses, which is the second strategy. The silhouette score calculated at the end is better than the first method, which indicates that the model is further away from the neighbor clusters. And it indicates that the most samples are assigned correct cluster as well."
   ]
  },
  {
   "cell_type": "markdown",
   "metadata": {
    "id": "_37jSviGF6cF"
   },
   "source": [
    "### 5.2 Naming the clusters\n",
    "Using the selected method, create a table of the averages per variable (`Income`, `Total_Consumption`, `Total_Num_Purchases`) of each cluster (use the original, non-scaled, variables, and  Pandas' `groupby` function). "
   ]
  },
  {
   "cell_type": "code",
   "execution_count": 23,
   "metadata": {
    "id": "voasXIHpF6cG"
   },
   "outputs": [
    {
     "name": "stderr",
     "output_type": "stream",
     "text": [
      "C:\\Users\\angel\\AppData\\Local\\Temp\\ipykernel_14640\\800964759.py:6: SettingWithCopyWarning: \n",
      "A value is trying to be set on a copy of a slice from a DataFrame.\n",
      "Try using .loc[row_indexer,col_indexer] = value instead\n",
      "\n",
      "See the caveats in the documentation: https://pandas.pydata.org/pandas-docs/stable/user_guide/indexing.html#returning-a-view-versus-a-copy\n",
      "  X['KMeans_Clusters'] = clusterer.fit_predict(X)\n"
     ]
    },
    {
     "data": {
      "text/html": [
       "<div>\n",
       "<style scoped>\n",
       "    .dataframe tbody tr th:only-of-type {\n",
       "        vertical-align: middle;\n",
       "    }\n",
       "\n",
       "    .dataframe tbody tr th {\n",
       "        vertical-align: top;\n",
       "    }\n",
       "\n",
       "    .dataframe thead th {\n",
       "        text-align: right;\n",
       "    }\n",
       "</style>\n",
       "<table border=\"1\" class=\"dataframe\">\n",
       "  <thead>\n",
       "    <tr style=\"text-align: right;\">\n",
       "      <th></th>\n",
       "      <th>Income</th>\n",
       "      <th>Total_Consumption</th>\n",
       "      <th>Total_Num_Purchases</th>\n",
       "    </tr>\n",
       "    <tr>\n",
       "      <th>KMeans_Clusters</th>\n",
       "      <th></th>\n",
       "      <th></th>\n",
       "      <th></th>\n",
       "    </tr>\n",
       "  </thead>\n",
       "  <tbody>\n",
       "    <tr>\n",
       "      <th>0</th>\n",
       "      <td>-0.906266</td>\n",
       "      <td>-0.873840</td>\n",
       "      <td>-0.988615</td>\n",
       "    </tr>\n",
       "    <tr>\n",
       "      <th>1</th>\n",
       "      <td>1.111254</td>\n",
       "      <td>1.282697</td>\n",
       "      <td>0.944734</td>\n",
       "    </tr>\n",
       "    <tr>\n",
       "      <th>2</th>\n",
       "      <td>0.155614</td>\n",
       "      <td>-0.094562</td>\n",
       "      <td>0.479557</td>\n",
       "    </tr>\n",
       "  </tbody>\n",
       "</table>\n",
       "</div>"
      ],
      "text/plain": [
       "                   Income  Total_Consumption  Total_Num_Purchases\n",
       "KMeans_Clusters                                                  \n",
       "0               -0.906266          -0.873840            -0.988615\n",
       "1                1.111254           1.282697             0.944734\n",
       "2                0.155614          -0.094562             0.479557"
      ]
     },
     "execution_count": 23,
     "metadata": {},
     "output_type": "execute_result"
    }
   ],
   "source": [
    "# 2 pts\n",
    "# Generate the table\n",
    "n_clusters = 3\n",
    "X = df_num_z[['Income','Total_Consumption','Total_Num_Purchases']]\n",
    "clusterer = KMeans(n_clusters=n_clusters, random_state=3)\n",
    "X['KMeans_Clusters'] = clusterer.fit_predict(X)\n",
    "\n",
    "# Crosstab with the averages per cluster\n",
    "X.groupby(['KMeans_Clusters']).mean()"
   ]
  },
  {
   "cell_type": "markdown",
   "metadata": {
    "id": "uJmby6lrF6cH"
   },
   "source": [
    "**Written Answer:** Name the different clusters and think what strategy the company could use in each of the clusters."
   ]
  },
  {
   "cell_type": "markdown",
   "metadata": {
    "id": "PWslS_xJF6cH"
   },
   "source": [
    "**ANSWER HERE (9pts):** \\\n",
    "The cluster 0 has low income, low total consumption and low total number of purchases. This means that they are probably not the customer that the company could consider to be targeted at all. \\\n",
    "The cluster 1 has high income, high total consumtion and high total number of purchases. This is a groups that is totally opposite by the cluster 0. This means that this is the customer has high income and willing to spend money. So they are highly potential customer to target. \\\n",
    "The cluster 2 has medium income, a bit lower total consumption and medium total number of purchases. This is a possible potential group that could be target customer. \n"
   ]
  }
 ],
 "metadata": {
  "colab": {
   "name": "Assignment_8_Clean.ipynb",
   "provenance": []
  },
  "kernelspec": {
   "display_name": "Python 3 (ipykernel)",
   "language": "python",
   "name": "python3"
  },
  "language_info": {
   "codemirror_mode": {
    "name": "ipython",
    "version": 3
   },
   "file_extension": ".py",
   "mimetype": "text/x-python",
   "name": "python",
   "nbconvert_exporter": "python",
   "pygments_lexer": "ipython3",
   "version": "3.9.7"
  }
 },
 "nbformat": 4,
 "nbformat_minor": 1
}
